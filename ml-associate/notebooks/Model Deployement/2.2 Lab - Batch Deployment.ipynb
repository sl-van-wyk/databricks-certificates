{
 "cells": [
  {
   "cell_type": "markdown",
   "metadata": {
    "application/vnd.databricks.v1+cell": {
     "cellMetadata": {
      "byteLimit": 2048000,
      "rowLimit": 10000
     },
     "inputWidgets": {},
     "nuid": "2f99304d-fce4-4898-81dd-4e6fa525052d",
     "showTitle": false,
     "tableResultSettingsMap": {},
     "title": ""
    }
   },
   "source": [
    "\n",
    "<div style=\"text-align: center; line-height: 0; padding-top: 9px;\">\n",
    "  <img src=\"https://databricks.com/wp-content/uploads/2018/03/db-academy-rgb-1200px.png\" alt=\"Databricks Learning\">\n",
    "</div>\n"
   ]
  },
  {
   "cell_type": "markdown",
   "metadata": {
    "application/vnd.databricks.v1+cell": {
     "cellMetadata": {
      "byteLimit": 2048000,
      "rowLimit": 10000
     },
     "inputWidgets": {},
     "nuid": "d94094a0-80cd-40b1-b7fa-e12b66cd600d",
     "showTitle": false,
     "tableResultSettingsMap": {},
     "title": ""
    }
   },
   "source": [
    "\n",
    "# LAB - Batch Deployment\n",
    "\n",
    "Welcome to the \"Batch Deployment\" lab! This lab focuses on batch deployment of machine learning models using Databricks. You will engage in tasks related to model inference, model registry, and explore performance results for feature such as Liquid Clustering using `CLUSTER BY`.\n",
    "\n",
    "**Learning Objectives:**\n",
    "\n",
    "By the end of this lab, you will be able to;\n",
    "\n",
    "+ **Task 1: Load Dataset**\n",
    "    + Load Dataset\n",
    "    + Split the dataset to features and response sets\n",
    "\n",
    "+ **Task 2: Inference with feature table**\n",
    "\n",
    "    + Create Feature Table\n",
    "    + Setup Feature Lookups\n",
    "    + Fit and Register a Model with UC using Feature Table\n",
    "    + Perform batch inference using Feature Engineering's  **`score_batch`** method.\n",
    "\n",
    "+ **Task 3: Assess Liquid Clustering:**\n",
    "\n",
    "    + Evaluate the performance results for specific optimization techniques:\n",
    "        + Liquid Clustering\n"
   ]
  },
  {
   "cell_type": "markdown",
   "metadata": {
    "application/vnd.databricks.v1+cell": {
     "cellMetadata": {
      "byteLimit": 2048000,
      "rowLimit": 10000
     },
     "inputWidgets": {},
     "nuid": "69371e2b-494d-4ec5-ac9a-c996565d4d99",
     "showTitle": false,
     "tableResultSettingsMap": {},
     "title": ""
    }
   },
   "source": [
    "## REQUIRED - SELECT CLASSIC COMPUTE\n",
    "Before executing cells in this notebook, please select your classic compute cluster in the lab. Be aware that **Serverless** is enabled by default.\n",
    "\n",
    "Follow these steps to select the classic compute cluster:\n",
    "1. Navigate to the top-right of this notebook and click the drop-down menu to select your cluster. By default, the notebook will use **Serverless**.\n",
    "\n",
    "2. If your cluster is available, select it and continue to the next cell. If the cluster is not shown:\n",
    "\n",
    "   - Click **More** in the drop-down.\n",
    "   \n",
    "   - In the **Attach to an existing compute resource** window, use the first drop-down to select your unique cluster.\n",
    "\n",
    "**NOTE:** If your cluster has terminated, you might need to restart it in order to select it. To do this:\n",
    "\n",
    "1. Right-click on **Compute** in the left navigation pane and select *Open in new tab*.\n",
    "\n",
    "2. Find the triangle icon to the right of your compute cluster name and click it.\n",
    "\n",
    "3. Wait a few minutes for the cluster to start.\n",
    "\n",
    "4. Once the cluster is running, complete the steps above to select your cluster."
   ]
  },
  {
   "cell_type": "markdown",
   "metadata": {
    "application/vnd.databricks.v1+cell": {
     "cellMetadata": {
      "byteLimit": 2048000,
      "rowLimit": 10000
     },
     "inputWidgets": {},
     "nuid": "7835daa4-736f-4447-a78a-b828e3226683",
     "showTitle": false,
     "tableResultSettingsMap": {},
     "title": ""
    }
   },
   "source": [
    "## Requirements\n",
    "\n",
    "Please review the following requirements before starting the lesson:\n",
    "\n",
    "* To run this notebook, you need to use one of the following Databricks runtime(s): **16.3.x-cpu-ml-scala2.12**"
   ]
  },
  {
   "cell_type": "markdown",
   "metadata": {
    "application/vnd.databricks.v1+cell": {
     "cellMetadata": {
      "byteLimit": 2048000,
      "rowLimit": 10000
     },
     "inputWidgets": {},
     "nuid": "8bd7a5c7-5ae5-46b2-9060-a4a2e41d1dc7",
     "showTitle": false,
     "tableResultSettingsMap": {},
     "title": ""
    }
   },
   "source": [
    "\n",
    "## Classroom Setup\n",
    "\n",
    "Before starting the Lab, run the provided classroom setup script. This script will define configuration variables necessary for the demo. Execute the following cell:"
   ]
  },
  {
   "cell_type": "code",
   "execution_count": 0,
   "metadata": {
    "application/vnd.databricks.v1+cell": {
     "cellMetadata": {
      "byteLimit": 2048000,
      "rowLimit": 10000
     },
     "inputWidgets": {},
     "nuid": "7f2f7c43-3896-4309-900b-fc157b339279",
     "showTitle": false,
     "tableResultSettingsMap": {},
     "title": ""
    }
   },
   "outputs": [
    {
     "output_type": "stream",
     "name": "stdout",
     "output_type": "stream",
     "text": [
      "\u001B[43mNote: you may need to restart the kernel using %restart_python or dbutils.library.restartPython() to use updated packages.\u001B[0m\n"
     ]
    },
    {
     "output_type": "stream",
     "name": "stdout",
     "output_type": "stream",
     "text": [
      "Using catalog dbacademy and schema labuser10817494_1751605583.\n"
     ]
    }
   ],
   "source": [
    "%run ../Includes/Classroom-Setup-2.2"
   ]
  },
  {
   "cell_type": "markdown",
   "metadata": {
    "application/vnd.databricks.v1+cell": {
     "cellMetadata": {
      "byteLimit": 2048000,
      "rowLimit": 10000
     },
     "inputWidgets": {},
     "nuid": "baa6b79b-a7ef-4323-a3b9-0426fa2288d6",
     "showTitle": false,
     "tableResultSettingsMap": {},
     "title": ""
    }
   },
   "source": [
    "**Other Conventions:**\n",
    "\n",
    "Throughout this Lab, we'll refer to the object `DA`. This object, provided by Databricks Academy, contains variables such as your username, catalog name, schema name, working directory, and dataset locations. Run the code block below to view these details:"
   ]
  },
  {
   "cell_type": "code",
   "execution_count": 0,
   "metadata": {
    "application/vnd.databricks.v1+cell": {
     "cellMetadata": {
      "byteLimit": 2048000,
      "rowLimit": 10000
     },
     "inputWidgets": {},
     "nuid": "fb1127e1-3647-4d4d-8245-81b52115a720",
     "showTitle": false,
     "tableResultSettingsMap": {},
     "title": ""
    }
   },
   "outputs": [
    {
     "output_type": "stream",
     "name": "stdout",
     "output_type": "stream",
     "text": [
      "Username:          labuser10817494_1751605583@vocareum.com\nCatalog Name:      dbacademy\nSchema Name:       labuser10817494_1751605583\nWorking Directory: /Volumes/dbacademy/ops/labuser10817494_1751605583@vocareum_com\nUser DB Location:  NestedNamespace (telco='/Volumes/dbacademy_telco/v01', cdc_diabetes='/Volumes/dbacademy_cdc_diabetes/v01')\n"
     ]
    }
   ],
   "source": [
    "print(f\"Username:          {DA.username}\")\n",
    "print(f\"Catalog Name:      {DA.catalog_name}\")\n",
    "print(f\"Schema Name:       {DA.schema_name}\")\n",
    "print(f\"Working Directory: {DA.paths.working_dir}\")\n",
    "print(f\"User DB Location:  {DA.paths.datasets}\")"
   ]
  },
  {
   "cell_type": "markdown",
   "metadata": {
    "application/vnd.databricks.v1+cell": {
     "cellMetadata": {
      "byteLimit": 2048000,
      "rowLimit": 10000
     },
     "inputWidgets": {},
     "nuid": "1553140a-78d5-42b9-b47b-53dede729bc4",
     "showTitle": false,
     "tableResultSettingsMap": {},
     "title": ""
    }
   },
   "source": [
    "## Task 1: Load Dataset\n",
    "\n",
    "+ Load a dataset:\n",
    "  + Define the dataset path\n",
    "  + Define the primary key (`customerID`), response variable (`Churn`), and feature variables (`SeniorCitizen`, `tenure`, `MonthlyCharges`, `TotalCharges`) for further processing.\n",
    "  + Read the dataset, casting relevant columns to the correct data types, and drop any rows with missing values\n",
    "+ Split the dataset into training and testing sets\n",
    "  + Separate the features and the response for the training set\n"
   ]
  },
  {
   "cell_type": "code",
   "execution_count": 0,
   "metadata": {
    "application/vnd.databricks.v1+cell": {
     "cellMetadata": {
      "byteLimit": 2048000,
      "rowLimit": 10000
     },
     "inputWidgets": {},
     "nuid": "7fe68c6e-5833-486c-8d3b-63975d285df0",
     "showTitle": false,
     "tableResultSettingsMap": {},
     "title": ""
    }
   },
   "outputs": [],
   "source": [
    "from pyspark.sql.functions import col\n",
    "## Load dataset with spark\n",
    "shared_volume_name = 'telco' # From Marketplace\n",
    "csv_name = 'telco-customer-churn-missing' # CSV file name\n",
    "dataset_p_telco = f\"{DA.paths.datasets.telco}/{shared_volume_name}/{csv_name}.csv\" # Full path\n",
    "\n",
    "## Features to use\n",
    "primary_key = \"customerID\"\n",
    "response = \"Churn\"\n",
    "features = [\"SeniorCitizen\", \"tenure\", \"MonthlyCharges\", \"TotalCharges\"]\n",
    "\n",
    "## Read dataset (and drop nan)\n",
    "telco_df = spark.read.csv(dataset_p_telco, inferSchema=True, header=True, multiLine=True, escape='\"')\\\n",
    "            .withColumn(\"TotalCharges\", col(\"TotalCharges\").cast('double'))\\\n",
    "            .withColumn(\"SeniorCitizen\", col(\"SeniorCitizen\").cast('double'))\\\n",
    "            .withColumn(\"Tenure\", col(\"tenure\").cast('double'))\\\n",
    "            .na.drop(how='any')\n",
    "\n",
    "## Split with 80 percent of the data in train_df and 20 percent of the data in test_df\n",
    "train_df, test_df = telco_df.randomSplit([.8, .2], seed=42)\n",
    "\n",
    "## Separate features and ground-truth\n",
    "features_df = train_df.select(primary_key, *features)\n",
    "response_df = train_df.select(primary_key, response)"
   ]
  },
  {
   "cell_type": "markdown",
   "metadata": {
    "application/vnd.databricks.v1+cell": {
     "cellMetadata": {
      "byteLimit": 2048000,
      "rowLimit": 10000
     },
     "inputWidgets": {},
     "nuid": "5696c6f2-1dce-4c9f-8831-8311f83c26b4",
     "showTitle": false,
     "tableResultSettingsMap": {},
     "title": ""
    }
   },
   "source": [
    "##Task 2: Inference with feature table\n",
    "In this task, you will perform batch inference using a feature table. Follow the steps below:\n",
    "\n",
    "+ **Step 1: Create Feature Table**\n",
    "\n",
    "+ **Step 2: Setup Feature Lookups**\n",
    "\n",
    "+ **Step 3: Fit and Register a Model with UC using Feature Table**\n",
    "\n",
    "+ **Step 4: Use the Model for Inference**\n"
   ]
  },
  {
   "cell_type": "markdown",
   "metadata": {
    "application/vnd.databricks.v1+cell": {
     "cellMetadata": {
      "byteLimit": 2048000,
      "rowLimit": 10000
     },
     "inputWidgets": {},
     "nuid": "ad85fd00-4722-4bfd-b975-17456832692b",
     "showTitle": false,
     "tableResultSettingsMap": {},
     "title": ""
    }
   },
   "source": [
    "**Step 1: Create Feature Table**\n",
    "  + Begin by creating a feature table that incorporates the relevant features for inference. This involves selecting the appropriate columns, performing any necessary transformations, and storing the resulting data in a feature table."
   ]
  },
  {
   "cell_type": "code",
   "execution_count": 0,
   "metadata": {
    "application/vnd.databricks.v1+cell": {
     "cellMetadata": {
      "byteLimit": 2048000,
      "rowLimit": 10000
     },
     "inputWidgets": {},
     "nuid": "c2eae7ea-39e6-4f63-b72c-c19265393580",
     "showTitle": false,
     "tableResultSettingsMap": {},
     "title": ""
    }
   },
   "outputs": [
    {
     "output_type": "stream",
     "name": "stderr",
     "output_type": "stream",
     "text": [
      "2025/07/04 06:02:50 WARNING databricks.ml_features._compute_client._compute_client: Deleting a feature table can lead to unexpected failures in upstream producers and downstream consumers (models, endpoints, and scheduled jobs).\n2025/07/04 06:02:54 INFO databricks.ml_features._compute_client._compute_client: Setting columns ['customerID'] of table 'dbacademy.labuser10817494_1751605583.features' to NOT NULL.\n2025/07/04 06:02:55 INFO databricks.ml_features._compute_client._compute_client: Setting Primary Keys constraint ['customerID'] on table 'dbacademy.labuser10817494_1751605583.features'.\n2025/07/04 06:03:00 INFO databricks.ml_features._compute_client._compute_client: Created feature table 'dbacademy.labuser10817494_1751605583.features'.\n"
     ]
    },
    {
     "output_type": "execute_result",
     "data": {
      "text/plain": [
       "<FeatureTable: name='dbacademy.labuser10817494_1751605583.features', table_id='45bead10-e06a-4280-b977-910622e35536', description='Features for Churn Prediction', primary_keys=['customerID'], partition_columns=[], features=['customerID', 'SeniorCitizen', 'tenure', 'MonthlyCharges', 'TotalCharges'], creation_timestamp=1751608974135, online_stores=[], notebook_producers=[], job_producers=[], table_data_sources=[], path_data_sources=[], custom_data_sources=[], timestamp_keys=[], tags={}>"
      ]
     },
     "execution_count": 6,
     "metadata": {},
     "output_type": "execute_result"
    }
   ],
   "source": [
    "from databricks.feature_engineering import FeatureEngineeringClient\n",
    "\n",
    "## Prepare feature set\n",
    "features_df_all = telco_df.select(primary_key, *features)\n",
    "\n",
    "## Feature table definition\n",
    "fe = FeatureEngineeringClient()\n",
    "feature_table_name = f\"{DA.catalog_name}.{DA.schema_name}.features\"\n",
    "\n",
    "## Drop table if exists\n",
    "try:\n",
    "    fe.drop_table(name=feature_table_name)\n",
    "except:\n",
    "    pass\n",
    "\n",
    "## Create feature table\n",
    "fe.create_table(\n",
    "    name = feature_table_name,\n",
    "    df = features_df_all,\n",
    "    primary_keys=[primary_key],\n",
    "    description= \"Features for Churn Prediction\",\n",
    ")"
   ]
  },
  {
   "cell_type": "markdown",
   "metadata": {
    "application/vnd.databricks.v1+cell": {
     "cellMetadata": {
      "byteLimit": 2048000,
      "rowLimit": 10000
     },
     "inputWidgets": {},
     "nuid": "ff565b22-d4bc-42b6-a915-1c1ccf5c5169",
     "showTitle": false,
     "tableResultSettingsMap": {},
     "title": ""
    }
   },
   "source": [
    "**Step 2: Setup Feature Lookups**\n",
    "  + Set up a feature lookup to create a training set from the feature table. \n",
    "  + Specify the `lookup_key` based on the columns that uniquely identify records in your feature table."
   ]
  },
  {
   "cell_type": "code",
   "execution_count": 0,
   "metadata": {
    "application/vnd.databricks.v1+cell": {
     "cellMetadata": {
      "byteLimit": 2048000,
      "rowLimit": 10000
     },
     "inputWidgets": {},
     "nuid": "047c39b5-f529-4380-b52d-bd13c0823fb8",
     "showTitle": false,
     "tableResultSettingsMap": {},
     "title": ""
    }
   },
   "outputs": [],
   "source": [
    "from databricks.feature_engineering import FeatureLookup\n",
    "\n",
    "fl_handle = FeatureLookup(\n",
    "    lookup_key= [primary_key],\n",
    "    table_name = feature_table_name\n",
    ")\n",
    "\n",
    "## Create a training set based on feature lookup\n",
    "training_set_spec = fe.create_training_set(\n",
    "    df = response_df,\n",
    "    label = response,\n",
    "    feature_lookups= [fl_handle],\n",
    "    exclude_columns=[primary_key],\n",
    ")\n",
    "\n",
    "## Load training dataframe based on defined feature-lookup specification\n",
    "training_df = training_set_spec.load_df()"
   ]
  },
  {
   "cell_type": "markdown",
   "metadata": {
    "application/vnd.databricks.v1+cell": {
     "cellMetadata": {
      "byteLimit": 2048000,
      "rowLimit": 10000
     },
     "inputWidgets": {},
     "nuid": "785836ae-ea49-4686-bb4f-bb956c50972e",
     "showTitle": false,
     "tableResultSettingsMap": {},
     "title": ""
    }
   },
   "source": [
    "**Step 3: Fit and Register a Model with UC using Feature Table**\n",
    "  + Fit and register a Machine Learning Model using the created training set.\n",
    "  + Train a model on the training set and register it in the model registry."
   ]
  },
  {
   "cell_type": "code",
   "execution_count": 0,
   "metadata": {
    "application/vnd.databricks.v1+cell": {
     "cellMetadata": {
      "byteLimit": 2048000,
      "rowLimit": 10000
     },
     "inputWidgets": {},
     "nuid": "40a721b3-7f17-4362-8ad7-c354859139b7",
     "showTitle": false,
     "tableResultSettingsMap": {},
     "title": ""
    }
   },
   "outputs": [
    {
     "output_type": "display_data",
     "data": {
      "application/vnd.jupyter.widget-view+json": {
       "model_id": "e290425e4e4240f2a57d4452687a1913",
       "version_major": 2,
       "version_minor": 0
      },
      "text/plain": [
       "Uploading artifacts:   0%|          | 0/1 [00:00<?, ?it/s]"
      ]
     },
     "metadata": {},
     "output_type": "display_data"
    },
    {
     "output_type": "stream",
     "name": "stderr",
     "output_type": "stream",
     "text": [
      "/root/.ipykernel/15108/command-4054457989793468-1129081546:41: UserWarning: Could not infer model output schema: The feature names should match those that were passed during fit.\nFeature names unseen at fit time:\n- Churn\nFeature names seen at fit time, yet now missing:\n- MonthlyCharges\n- SeniorCitizen\n- TotalCharges\n- tenure\n\n  warnings.warn(f\"Could not infer model output schema: {e}\")\n"
     ]
    },
    {
     "output_type": "display_data",
     "data": {
      "application/vnd.jupyter.widget-view+json": {
       "model_id": "aa27e12f8cb4473b8f859ef31327e076",
       "version_major": 2,
       "version_minor": 0
      },
      "text/plain": [
       "Uploading artifacts:   0%|          | 0/14 [00:00<?, ?it/s]"
      ]
     },
     "metadata": {},
     "output_type": "display_data"
    },
    {
     "output_type": "stream",
     "name": "stderr",
     "output_type": "stream",
     "text": [
      "Registered model 'dbacademy.labuser10817494_1751605583.ml_model' already exists. Creating a new version of this model...\n"
     ]
    },
    {
     "output_type": "display_data",
     "data": {
      "application/vnd.jupyter.widget-view+json": {
       "model_id": "111ef6df162f440292ac5bbe9b8919ee",
       "version_major": 2,
       "version_minor": 0
      },
      "text/plain": [
       "Downloading artifacts:   0%|          | 0/14 [00:00<?, ?it/s]"
      ]
     },
     "metadata": {},
     "output_type": "display_data"
    },
    {
     "output_type": "display_data",
     "data": {
      "application/vnd.jupyter.widget-view+json": {
       "model_id": "bb88a477973e4a729c6d7a32c5b415c4",
       "version_major": 2,
       "version_minor": 0
      },
      "text/plain": [
       "Uploading artifacts:   0%|          | 0/14 [00:00<?, ?it/s]"
      ]
     },
     "metadata": {},
     "output_type": "display_data"
    },
    {
     "output_type": "stream",
     "name": "stderr",
     "output_type": "stream",
     "text": [
      "Created version '3' of model 'dbacademy.labuser10817494_1751605583.ml_model'.\n2025/07/04 06:14:54 INFO mlflow.tracking._tracking_service.client: \uD83C\uDFC3 View run Model-Batch-Deployment-lab-With-FS at: dbc-7a815474-411f.cloud.databricks.com/ml/experiments/4054457989793451/runs/01d9a6f308984d76aecf85b812fad009.\n2025/07/04 06:14:54 INFO mlflow.tracking._tracking_service.client: \uD83E\uDDEA View experiment at: dbc-7a815474-411f.cloud.databricks.com/ml/experiments/4054457989793451.\n"
     ]
    }
   ],
   "source": [
    "import mlflow\n",
    "import warnings\n",
    "from mlflow.types.utils import _infer_schema\n",
    "\n",
    "## Point to UC model registry\n",
    "mlflow.set_registry_uri(\"databricks-uc\")\n",
    "client = mlflow.MlflowClient()\n",
    "\n",
    "## Helper function that we will use for getting latest version of a model\n",
    "def get_latest_model_version(model_name):\n",
    "    \"\"\"Helper function to get latest model version\"\"\"\n",
    "    model_version_infos = client.search_model_versions(\"name = '%s'\" % model_name)\n",
    "    return max([model_version_info.version for model_version_info in model_version_infos])\n",
    "\n",
    "## Train a sklearn Decision Tree Classification model\n",
    "from sklearn.tree import DecisionTreeClassifier\n",
    "\n",
    "## Convert data to pandas dataframes\n",
    "X_train_pdf = training_df.drop(primary_key, response).toPandas()\n",
    "Y_train_pdf = training_df.select(response).toPandas()\n",
    "clf = DecisionTreeClassifier(max_depth=3, random_state=42)\n",
    "\n",
    "## End the active MLflow run before starting a new one\n",
    "mlflow.end_run()\n",
    "\n",
    "with mlflow.start_run(run_name=\"Model-Batch-Deployment-lab-With-FS\") as mlflow_run:\n",
    "\n",
    "    ##Enable automatic logging of input samples, metrics, parameters, and models\n",
    "    mlflow.sklearn.autolog(\n",
    "        log_input_examples=True,\n",
    "        log_models=False,\n",
    "        log_post_training_metrics=True,\n",
    "        silent=True)\n",
    "    \n",
    "    clf.fit(X_train_pdf, Y_train_pdf)\n",
    "\n",
    "    ## Infer output schema\n",
    "    try:\n",
    "        output_schema = _infer_schema(clf.predict(Y_train_pdf))\n",
    "    except Exception as e:\n",
    "        warnings.warn(f\"Could not infer model output schema: {e}\")\n",
    "        output_schema = None\n",
    "\n",
    "    model_name = f\"{DA.catalog_name}.{DA.schema_name}.ml_model\"\n",
    "    \n",
    "    ## Log using feature engineering client and push to registry\n",
    "    fe.log_model(\n",
    "        flavor = mlflow.sklearn,\n",
    "        model = clf,\n",
    "        artifact_path= \"decision_tree\",\n",
    "        training_set= training_set_spec,\n",
    "        registered_model_name= model_name,\n",
    "        output_schema = output_schema\n",
    "    )\n",
    "\n",
    "    ## Set model alias (i.e. Champion)\n",
    "    client.set_registered_model_alias(model_name, \"Champion\", get_latest_model_version(model_name))"
   ]
  },
  {
   "cell_type": "markdown",
   "metadata": {
    "application/vnd.databricks.v1+cell": {
     "cellMetadata": {
      "byteLimit": 2048000,
      "rowLimit": 10000
     },
     "inputWidgets": {},
     "nuid": "696457a4-d582-4fa5-a1c2-f4f3e7a94bb6",
     "showTitle": false,
     "tableResultSettingsMap": {},
     "title": ""
    }
   },
   "source": [
    "**Step 4: Use the Model for Inference**\n",
    "  + Utilize the feature engineering client's `score_batch()` method for inference.\n",
    "  + Provide the model URI and a dataframe containing primary key information for the inference."
   ]
  },
  {
   "cell_type": "code",
   "execution_count": 0,
   "metadata": {
    "application/vnd.databricks.v1+cell": {
     "cellMetadata": {
      "byteLimit": 2048000,
      "rowLimit": 10000
     },
     "inputWidgets": {},
     "nuid": "c4fd6a88-a23b-401c-b30b-20917447d3bd",
     "showTitle": false,
     "tableResultSettingsMap": {},
     "title": ""
    }
   },
   "outputs": [
    {
     "output_type": "display_data",
     "data": {
      "application/vnd.jupyter.widget-view+json": {
       "model_id": "996a1ae073e2462e98da50da65069366",
       "version_major": 2,
       "version_minor": 0
      },
      "text/plain": [
       "Downloading artifacts:   0%|          | 0/14 [00:00<?, ?it/s]"
      ]
     },
     "metadata": {},
     "output_type": "display_data"
    },
    {
     "output_type": "display_data",
     "data": {
      "application/vnd.jupyter.widget-view+json": {
       "model_id": "13ff9368ae6b4a288c7272d9720a5a5f",
       "version_major": 2,
       "version_minor": 0
      },
      "text/plain": [
       "Downloading artifacts:   0%|          | 0/5 [00:00<?, ?it/s]"
      ]
     },
     "metadata": {},
     "output_type": "display_data"
    },
    {
     "output_type": "stream",
     "name": "stderr",
     "output_type": "stream",
     "text": [
      "2025/07/04 06:16:47 WARNING mlflow.pyfunc: Calling `spark_udf()` with `env_manager=\"local\"` does not recreate the same environment that was used during training, which may lead to errors or inaccurate predictions. We recommend specifying `env_manager=\"conda\"`, which automatically recreates the environment that was used to train the model and performs inference in the recreated environment.\n"
     ]
    },
    {
     "output_type": "display_data",
     "data": {
      "application/vnd.jupyter.widget-view+json": {
       "model_id": "144e4040e4ec47d79ccc3ab269d4f83b",
       "version_major": 2,
       "version_minor": 0
      },
      "text/plain": [
       "Downloading artifacts:   0%|          | 0/5 [00:00<?, ?it/s]"
      ]
     },
     "metadata": {},
     "output_type": "display_data"
    },
    {
     "output_type": "stream",
     "name": "stderr",
     "output_type": "stream",
     "text": [
      "2025/07/04 06:16:48 INFO mlflow.models.flavor_backend_registry: Selected backend for flavor 'python_function'\n"
     ]
    },
    {
     "output_type": "display_data",
     "data": {
      "text/html": [
       "<style scoped>\n",
       "  .table-result-container {\n",
       "    max-height: 300px;\n",
       "    overflow: auto;\n",
       "  }\n",
       "  table, th, td {\n",
       "    border: 1px solid black;\n",
       "    border-collapse: collapse;\n",
       "  }\n",
       "  th, td {\n",
       "    padding: 5px;\n",
       "  }\n",
       "  th {\n",
       "    text-align: left;\n",
       "  }\n",
       "</style><div class='table-result-container'><table class='table-result'><thead style='background-color: white'><tr><th>customerID</th><th>SeniorCitizen</th><th>tenure</th><th>MonthlyCharges</th><th>TotalCharges</th><th>prediction</th></tr></thead><tbody><tr><td>0013-EXCHZ</td><td>1.0</td><td>3.0</td><td>83.9</td><td>267.4</td><td>Yes</td></tr><tr><td>0027-KWYKW</td><td>0.0</td><td>23.0</td><td>83.75</td><td>1849.95</td><td>No</td></tr><tr><td>0048-LUMLS</td><td>0.0</td><td>37.0</td><td>91.2</td><td>3247.55</td><td>No</td></tr><tr><td>0078-XZMHT</td><td>0.0</td><td>72.0</td><td>85.15</td><td>6316.2</td><td>No</td></tr><tr><td>0096-BXERS</td><td>0.0</td><td>6.0</td><td>50.35</td><td>314.55</td><td>No</td></tr><tr><td>0114-IGABW</td><td>0.0</td><td>71.0</td><td>58.25</td><td>4145.9</td><td>No</td></tr><tr><td>0139-IVFJG</td><td>0.0</td><td>2.0</td><td>90.35</td><td>190.5</td><td>Yes</td></tr><tr><td>0188-GWFLE</td><td>0.0</td><td>2.0</td><td>20.05</td><td>33.7</td><td>No</td></tr><tr><td>0218-QNVAS</td><td>0.0</td><td>71.0</td><td>100.55</td><td>7113.75</td><td>No</td></tr><tr><td>0231-LXVAP</td><td>0.0</td><td>1.0</td><td>75.9</td><td>75.9</td><td>Yes</td></tr><tr><td>0234-TEVTT</td><td>0.0</td><td>48.0</td><td>45.0</td><td>2196.3</td><td>No</td></tr><tr><td>0239-OXEXL</td><td>0.0</td><td>46.0</td><td>84.25</td><td>3847.6</td><td>No</td></tr><tr><td>0247-SLUJI</td><td>0.0</td><td>1.0</td><td>19.7</td><td>19.7</td><td>No</td></tr><tr><td>0264-CNITK</td><td>0.0</td><td>71.0</td><td>20.1</td><td>1389.6</td><td>No</td></tr><tr><td>0301-KOBTQ</td><td>0.0</td><td>32.0</td><td>20.05</td><td>614.45</td><td>No</td></tr><tr><td>0311-UNPFF</td><td>0.0</td><td>26.0</td><td>88.8</td><td>2274.35</td><td>No</td></tr><tr><td>0329-GTIAJ</td><td>0.0</td><td>3.0</td><td>97.9</td><td>315.3</td><td>Yes</td></tr><tr><td>0454-OKRCT</td><td>0.0</td><td>33.0</td><td>80.6</td><td>2651.1</td><td>No</td></tr><tr><td>0487-RPVUM</td><td>0.0</td><td>61.0</td><td>99.4</td><td>5943.65</td><td>No</td></tr><tr><td>0516-OOHAR</td><td>0.0</td><td>28.0</td><td>100.35</td><td>2799.0</td><td>No</td></tr><tr><td>0516-UXRMT</td><td>0.0</td><td>62.0</td><td>92.05</td><td>5755.8</td><td>No</td></tr><tr><td>0516-VRYBW</td><td>0.0</td><td>18.0</td><td>20.15</td><td>390.85</td><td>No</td></tr><tr><td>0585-EGDDA</td><td>0.0</td><td>40.0</td><td>80.0</td><td>3168.75</td><td>No</td></tr><tr><td>0595-ITUDF</td><td>0.0</td><td>64.0</td><td>91.8</td><td>5960.5</td><td>No</td></tr><tr><td>0665-XHDJU</td><td>0.0</td><td>72.0</td><td>99.4</td><td>7285.7</td><td>No</td></tr><tr><td>0690-SRQID</td><td>0.0</td><td>4.0</td><td>19.65</td><td>67.55</td><td>No</td></tr><tr><td>0708-LGSMF</td><td>0.0</td><td>13.0</td><td>65.85</td><td>902.25</td><td>No</td></tr><tr><td>0725-CXOTM</td><td>0.0</td><td>36.0</td><td>89.65</td><td>3348.1</td><td>No</td></tr><tr><td>0731-EBJQB</td><td>0.0</td><td>52.0</td><td>20.4</td><td>1090.65</td><td>No</td></tr><tr><td>0788-DXBFY</td><td>0.0</td><td>58.0</td><td>19.55</td><td>1108.8</td><td>No</td></tr><tr><td>0812-WUPTB</td><td>1.0</td><td>1.0</td><td>70.85</td><td>70.85</td><td>Yes</td></tr><tr><td>0902-XKXPN</td><td>0.0</td><td>69.0</td><td>20.2</td><td>1376.5</td><td>No</td></tr><tr><td>0929-PECLO</td><td>1.0</td><td>63.0</td><td>89.6</td><td>5538.8</td><td>No</td></tr><tr><td>0962-CQPWQ</td><td>0.0</td><td>62.0</td><td>20.3</td><td>1296.15</td><td>No</td></tr><tr><td>0988-AADSA</td><td>0.0</td><td>72.0</td><td>80.85</td><td>5824.75</td><td>No</td></tr><tr><td>1053-MXTTK</td><td>0.0</td><td>72.0</td><td>108.65</td><td>7726.35</td><td>No</td></tr><tr><td>1122-YJBCS</td><td>0.0</td><td>69.0</td><td>53.65</td><td>3804.4</td><td>No</td></tr><tr><td>1142-WACZW</td><td>0.0</td><td>2.0</td><td>29.85</td><td>75.6</td><td>No</td></tr><tr><td>1167-OYZJF</td><td>1.0</td><td>67.0</td><td>20.05</td><td>1263.05</td><td>No</td></tr><tr><td>1172-VIYBP</td><td>0.0</td><td>53.0</td><td>69.7</td><td>3686.05</td><td>No</td></tr><tr><td>1184-PJVDB</td><td>0.0</td><td>10.0</td><td>79.95</td><td>857.2</td><td>Yes</td></tr><tr><td>1194-SPVSP</td><td>0.0</td><td>1.0</td><td>19.65</td><td>19.65</td><td>No</td></tr><tr><td>1304-BCCFO</td><td>0.0</td><td>9.0</td><td>70.05</td><td>564.4</td><td>Yes</td></tr><tr><td>1307-TVUFB</td><td>1.0</td><td>42.0</td><td>79.35</td><td>3344.1</td><td>No</td></tr><tr><td>1310-QRITU</td><td>0.0</td><td>18.0</td><td>50.3</td><td>913.3</td><td>No</td></tr><tr><td>1322-AGOQM</td><td>0.0</td><td>46.0</td><td>30.3</td><td>1380.1</td><td>No</td></tr><tr><td>1336-EZFZY</td><td>0.0</td><td>4.0</td><td>20.05</td><td>83.3</td><td>No</td></tr><tr><td>1423-BMPBQ</td><td>0.0</td><td>1.0</td><td>19.0</td><td>19.0</td><td>No</td></tr><tr><td>1431-AIDJQ</td><td>0.0</td><td>33.0</td><td>82.1</td><td>2603.1</td><td>No</td></tr><tr><td>1471-GIQKQ</td><td>0.0</td><td>1.0</td><td>49.95</td><td>49.95</td><td>No</td></tr><tr><td>1552-CZCLL</td><td>0.0</td><td>55.0</td><td>20.0</td><td>1087.25</td><td>No</td></tr><tr><td>1557-EMYVT</td><td>0.0</td><td>43.0</td><td>115.05</td><td>4895.1</td><td>No</td></tr><tr><td>1576-PFZIW</td><td>1.0</td><td>70.0</td><td>105.35</td><td>7511.9</td><td>No</td></tr><tr><td>1622-HSHSF</td><td>0.0</td><td>1.0</td><td>19.55</td><td>19.55</td><td>No</td></tr><tr><td>1705-GUHPV</td><td>0.0</td><td>63.0</td><td>24.2</td><td>1618.2</td><td>No</td></tr><tr><td>1732-VHUBQ</td><td>1.0</td><td>47.0</td><td>70.55</td><td>3309.25</td><td>No</td></tr><tr><td>1761-AEZZR</td><td>0.0</td><td>1.0</td><td>79.55</td><td>79.55</td><td>Yes</td></tr><tr><td>1794-HBQTJ</td><td>0.0</td><td>1.0</td><td>48.6</td><td>48.6</td><td>No</td></tr><tr><td>1897-OKVMW</td><td>0.0</td><td>64.0</td><td>90.6</td><td>5817.45</td><td>No</td></tr><tr><td>1915-OAKWD</td><td>0.0</td><td>16.0</td><td>19.3</td><td>360.35</td><td>No</td></tr><tr><td>1955-IBMMB</td><td>0.0</td><td>59.0</td><td>20.2</td><td>1192.3</td><td>No</td></tr><tr><td>1956-YIFGE</td><td>0.0</td><td>22.0</td><td>100.05</td><td>2090.25</td><td>No</td></tr><tr><td>2007-QVGAW</td><td>0.0</td><td>68.0</td><td>19.35</td><td>1292.65</td><td>No</td></tr><tr><td>2037-XJFUP</td><td>0.0</td><td>33.0</td><td>95.8</td><td>3036.75</td><td>No</td></tr><tr><td>2055-SIFSS</td><td>1.0</td><td>55.0</td><td>51.65</td><td>2838.55</td><td>No</td></tr><tr><td>2075-RMJIK</td><td>0.0</td><td>5.0</td><td>49.4</td><td>232.55</td><td>No</td></tr><tr><td>2144-ESWKO</td><td>0.0</td><td>43.0</td><td>35.2</td><td>1463.7</td><td>No</td></tr><tr><td>2205-YMZZJ</td><td>1.0</td><td>7.0</td><td>84.8</td><td>546.95</td><td>Yes</td></tr><tr><td>2207-RYYRL</td><td>0.0</td><td>52.0</td><td>24.55</td><td>1331.05</td><td>No</td></tr><tr><td>2215-ZAFGX</td><td>0.0</td><td>9.0</td><td>85.5</td><td>791.7</td><td>Yes</td></tr><tr><td>2229-DPMBI</td><td>0.0</td><td>8.0</td><td>19.5</td><td>162.15</td><td>No</td></tr><tr><td>2235-ZGKPT</td><td>0.0</td><td>4.0</td><td>50.85</td><td>239.55</td><td>No</td></tr><tr><td>2252-JHJGE</td><td>0.0</td><td>61.0</td><td>104.0</td><td>6363.45</td><td>No</td></tr><tr><td>2272-UOINI</td><td>0.0</td><td>7.0</td><td>78.5</td><td>571.05</td><td>Yes</td></tr><tr><td>2311-QYMUQ</td><td>0.0</td><td>16.0</td><td>89.45</td><td>1430.25</td><td>No</td></tr><tr><td>2314-TNDJQ</td><td>0.0</td><td>72.0</td><td>55.65</td><td>3880.05</td><td>No</td></tr><tr><td>2342-CKIAO</td><td>0.0</td><td>2.0</td><td>20.3</td><td>41.2</td><td>No</td></tr><tr><td>2361-FJWNO</td><td>0.0</td><td>40.0</td><td>36.0</td><td>1382.9</td><td>No</td></tr><tr><td>2368-GAKKQ</td><td>0.0</td><td>70.0</td><td>113.65</td><td>7939.25</td><td>No</td></tr><tr><td>2371-KFUOG</td><td>0.0</td><td>58.0</td><td>99.15</td><td>5720.95</td><td>No</td></tr><tr><td>2379-GYFLQ</td><td>0.0</td><td>46.0</td><td>94.9</td><td>4422.95</td><td>No</td></tr><tr><td>2380-DAMQP</td><td>0.0</td><td>72.0</td><td>115.15</td><td>8349.7</td><td>No</td></tr><tr><td>2474-BRUCM</td><td>1.0</td><td>40.0</td><td>101.85</td><td>4086.3</td><td>No</td></tr><tr><td>2530-FMFXO</td><td>0.0</td><td>56.0</td><td>103.2</td><td>5873.75</td><td>No</td></tr><tr><td>2573-GYRUU</td><td>1.0</td><td>48.0</td><td>91.05</td><td>4370.75</td><td>No</td></tr><tr><td>2599-CZABP</td><td>0.0</td><td>14.0</td><td>44.6</td><td>641.25</td><td>No</td></tr><tr><td>2662-NNTDK</td><td>0.0</td><td>65.0</td><td>24.8</td><td>1600.95</td><td>No</td></tr><tr><td>2675-DHUTR</td><td>1.0</td><td>58.0</td><td>98.9</td><td>5780.7</td><td>No</td></tr><tr><td>2700-LUEVA</td><td>0.0</td><td>1.0</td><td>20.75</td><td>20.75</td><td>No</td></tr><tr><td>2712-SYWAY</td><td>0.0</td><td>1.0</td><td>25.7</td><td>25.7</td><td>No</td></tr><tr><td>2722-JMONI</td><td>1.0</td><td>1.0</td><td>49.55</td><td>49.55</td><td>No</td></tr><tr><td>2750-BJLSB</td><td>0.0</td><td>47.0</td><td>103.7</td><td>4730.6</td><td>No</td></tr><tr><td>2761-OCIAX</td><td>1.0</td><td>2.0</td><td>74.7</td><td>165.4</td><td>Yes</td></tr><tr><td>2774-LVQUS</td><td>1.0</td><td>15.0</td><td>83.05</td><td>1258.3</td><td>Yes</td></tr><tr><td>2792-LSHWX</td><td>0.0</td><td>1.0</td><td>83.4</td><td>83.4</td><td>Yes</td></tr><tr><td>2804-ETQDK</td><td>0.0</td><td>66.0</td><td>20.55</td><td>1357.1</td><td>No</td></tr><tr><td>2834-JKOOW</td><td>0.0</td><td>15.0</td><td>45.9</td><td>693.45</td><td>No</td></tr><tr><td>2862-JVEOY</td><td>0.0</td><td>6.0</td><td>19.15</td><td>124.4</td><td>No</td></tr><tr><td>2919-HBCJO</td><td>0.0</td><td>4.0</td><td>76.65</td><td>333.6</td><td>Yes</td></tr><tr><td>2931-FSOHN</td><td>1.0</td><td>13.0</td><td>59.9</td><td>788.35</td><td>No</td></tr><tr><td>2933-FILNV</td><td>0.0</td><td>2.0</td><td>24.4</td><td>36.55</td><td>No</td></tr><tr><td>2957-LOLHO</td><td>0.0</td><td>12.0</td><td>45.4</td><td>518.9</td><td>No</td></tr><tr><td>2983-ZANRP</td><td>0.0</td><td>2.0</td><td>73.55</td><td>145.4</td><td>Yes</td></tr><tr><td>3001-CBHLQ</td><td>1.0</td><td>32.0</td><td>104.9</td><td>3351.55</td><td>No</td></tr><tr><td>3011-WQKSZ</td><td>0.0</td><td>19.0</td><td>20.0</td><td>377.55</td><td>No</td></tr><tr><td>3030-YDNRM</td><td>0.0</td><td>8.0</td><td>74.85</td><td>572.45</td><td>Yes</td></tr><tr><td>3062-ICYZQ</td><td>0.0</td><td>51.0</td><td>93.8</td><td>4539.35</td><td>No</td></tr><tr><td>3097-IDVPU</td><td>0.0</td><td>19.0</td><td>50.1</td><td>910.45</td><td>No</td></tr><tr><td>3106-ULWFW</td><td>0.0</td><td>8.0</td><td>85.2</td><td>627.4</td><td>Yes</td></tr><tr><td>3125-RAHBV</td><td>0.0</td><td>22.0</td><td>20.3</td><td>467.15</td><td>No</td></tr><tr><td>3223-DWFIO</td><td>1.0</td><td>4.0</td><td>69.35</td><td>261.65</td><td>Yes</td></tr><tr><td>3229-USWAR</td><td>0.0</td><td>34.0</td><td>79.95</td><td>2727.3</td><td>No</td></tr><tr><td>3262-EIDHV</td><td>0.0</td><td>72.0</td><td>84.7</td><td>5893.9</td><td>No</td></tr><tr><td>3285-UCQVC</td><td>0.0</td><td>37.0</td><td>28.6</td><td>973.55</td><td>No</td></tr><tr><td>3315-IKYZQ</td><td>0.0</td><td>28.0</td><td>50.8</td><td>1386.8</td><td>No</td></tr><tr><td>3318-OSATS</td><td>1.0</td><td>35.0</td><td>95.45</td><td>3474.05</td><td>No</td></tr><tr><td>3338-CVVEH</td><td>0.0</td><td>12.0</td><td>94.55</td><td>1173.55</td><td>Yes</td></tr><tr><td>3374-PZLXD</td><td>0.0</td><td>34.0</td><td>19.7</td><td>675.6</td><td>No</td></tr><tr><td>3422-WJOYD</td><td>0.0</td><td>28.0</td><td>54.35</td><td>1426.45</td><td>No</td></tr><tr><td>3440-JPSCL</td><td>0.0</td><td>6.0</td><td>99.95</td><td>547.65</td><td>Yes</td></tr><tr><td>3453-RTHJQ</td><td>0.0</td><td>6.0</td><td>69.1</td><td>435.0</td><td>Yes</td></tr><tr><td>3486-HOOGQ</td><td>0.0</td><td>70.0</td><td>79.7</td><td>5743.3</td><td>No</td></tr><tr><td>3521-SYVOR</td><td>0.0</td><td>37.0</td><td>64.75</td><td>2345.2</td><td>No</td></tr><tr><td>3570-YUEKJ</td><td>0.0</td><td>42.0</td><td>49.55</td><td>2077.95</td><td>No</td></tr><tr><td>3594-KADLU</td><td>0.0</td><td>3.0</td><td>35.1</td><td>101.1</td><td>No</td></tr><tr><td>3648-GZPHF</td><td>0.0</td><td>32.0</td><td>36.25</td><td>1151.05</td><td>No</td></tr><tr><td>3668-QPYBK</td><td>0.0</td><td>2.0</td><td>53.85</td><td>108.15</td><td>No</td></tr><tr><td>3678-MNGZX</td><td>0.0</td><td>68.0</td><td>19.95</td><td>1377.7</td><td>No</td></tr><tr><td>3704-IEAXF</td><td>0.0</td><td>72.0</td><td>53.65</td><td>3784.0</td><td>No</td></tr><tr><td>3716-LRGXK</td><td>0.0</td><td>60.0</td><td>101.15</td><td>6067.4</td><td>No</td></tr><tr><td>3729-OWRVL</td><td>1.0</td><td>65.0</td><td>110.35</td><td>7246.15</td><td>No</td></tr><tr><td>3776-EKTKM</td><td>1.0</td><td>1.0</td><td>36.45</td><td>36.45</td><td>No</td></tr><tr><td>3810-PJUHR</td><td>0.0</td><td>70.0</td><td>25.35</td><td>1715.15</td><td>No</td></tr><tr><td>3813-DHBBB</td><td>0.0</td><td>67.0</td><td>50.95</td><td>3521.7</td><td>No</td></tr><tr><td>3845-FXCYS</td><td>0.0</td><td>2.0</td><td>19.65</td><td>31.2</td><td>No</td></tr><tr><td>3855-ONCAR</td><td>0.0</td><td>4.0</td><td>78.9</td><td>299.75</td><td>Yes</td></tr><tr><td>3870-MQAMG</td><td>0.0</td><td>54.0</td><td>110.35</td><td>5893.15</td><td>No</td></tr><tr><td>3886-CERTZ</td><td>0.0</td><td>72.0</td><td>109.25</td><td>8109.8</td><td>No</td></tr><tr><td>3946-JEWRQ</td><td>0.0</td><td>47.0</td><td>95.2</td><td>4563.0</td><td>No</td></tr><tr><td>3948-XHGNA</td><td>0.0</td><td>24.0</td><td>49.55</td><td>1210.4</td><td>No</td></tr><tr><td>4001-TSBTV</td><td>0.0</td><td>58.0</td><td>91.55</td><td>5511.65</td><td>No</td></tr><tr><td>4012-ZTHBR</td><td>0.0</td><td>21.0</td><td>44.95</td><td>926.25</td><td>No</td></tr><tr><td>4024-CSNBY</td><td>0.0</td><td>72.0</td><td>94.25</td><td>6849.75</td><td>No</td></tr><tr><td>4039-PIMHX</td><td>1.0</td><td>49.0</td><td>49.8</td><td>2398.4</td><td>No</td></tr><tr><td>4049-ZPALD</td><td>0.0</td><td>64.0</td><td>99.0</td><td>6375.8</td><td>No</td></tr><tr><td>4081-DYXAV</td><td>0.0</td><td>19.0</td><td>44.85</td><td>893.55</td><td>No</td></tr><tr><td>4097-YODCF</td><td>0.0</td><td>34.0</td><td>103.8</td><td>3470.8</td><td>No</td></tr><tr><td>4116-TZAQJ</td><td>0.0</td><td>9.0</td><td>74.25</td><td>639.65</td><td>Yes</td></tr><tr><td>4176-RELJR</td><td>1.0</td><td>67.0</td><td>25.1</td><td>1672.15</td><td>No</td></tr><tr><td>4203-QGNZA</td><td>0.0</td><td>28.0</td><td>20.25</td><td>535.35</td><td>No</td></tr><tr><td>4223-BKEOR</td><td>0.0</td><td>21.0</td><td>64.85</td><td>1336.8</td><td>No</td></tr><tr><td>4248-HCETZ</td><td>1.0</td><td>30.0</td><td>79.65</td><td>2365.15</td><td>No</td></tr><tr><td>4274-DRSQT</td><td>0.0</td><td>66.0</td><td>88.9</td><td>6000.1</td><td>No</td></tr><tr><td>4325-NFSKC</td><td>1.0</td><td>19.0</td><td>90.6</td><td>1660.0</td><td>No</td></tr><tr><td>4378-BZYFP</td><td>0.0</td><td>17.0</td><td>20.5</td><td>365.8</td><td>No</td></tr><tr><td>4429-WYGFR</td><td>0.0</td><td>26.0</td><td>49.15</td><td>1237.3</td><td>No</td></tr><tr><td>4445-ZJNMU</td><td>0.0</td><td>9.0</td><td>99.3</td><td>918.75</td><td>Yes</td></tr><tr><td>4446-BZKHU</td><td>0.0</td><td>61.0</td><td>105.55</td><td>6281.45</td><td>No</td></tr><tr><td>4465-VDKIQ</td><td>0.0</td><td>18.0</td><td>77.8</td><td>1358.6</td><td>No</td></tr><tr><td>4547-FZJWE</td><td>0.0</td><td>55.0</td><td>59.45</td><td>3157.0</td><td>No</td></tr><tr><td>4547-KQRTM</td><td>0.0</td><td>10.0</td><td>80.05</td><td>830.7</td><td>Yes</td></tr><tr><td>4559-UWIHT</td><td>0.0</td><td>14.0</td><td>82.65</td><td>1185.0</td><td>Yes</td></tr><tr><td>4565-EVZMJ</td><td>0.0</td><td>47.0</td><td>58.9</td><td>2813.05</td><td>No</td></tr><tr><td>4570-QHXHL</td><td>0.0</td><td>9.0</td><td>43.75</td><td>405.7</td><td>No</td></tr><tr><td>4573-JKNAE</td><td>0.0</td><td>12.0</td><td>19.35</td><td>212.3</td><td>No</td></tr><tr><td>4580-TMHJU</td><td>0.0</td><td>43.0</td><td>56.15</td><td>2499.3</td><td>No</td></tr><tr><td>4583-PARNH</td><td>1.0</td><td>16.0</td><td>91.55</td><td>1540.05</td><td>No</td></tr><tr><td>4597-ELFTS</td><td>0.0</td><td>56.0</td><td>24.9</td><td>1334.0</td><td>No</td></tr><tr><td>4632-XJMEX</td><td>0.0</td><td>53.0</td><td>62.85</td><td>3419.5</td><td>No</td></tr><tr><td>4647-XXZAM</td><td>0.0</td><td>6.0</td><td>45.5</td><td>285.2</td><td>No</td></tr><tr><td>4654-DLAMQ</td><td>1.0</td><td>64.0</td><td>97.0</td><td>6430.9</td><td>No</td></tr><tr><td>4671-LXRDQ</td><td>0.0</td><td>2.0</td><td>45.0</td><td>96.45</td><td>No</td></tr><tr><td>4707-MAXGU</td><td>0.0</td><td>72.0</td><td>25.85</td><td>1872.2</td><td>No</td></tr><tr><td>4710-NKCAW</td><td>0.0</td><td>5.0</td><td>64.4</td><td>316.9</td><td>No</td></tr><tr><td>4713-ZBURT</td><td>0.0</td><td>45.0</td><td>99.7</td><td>4634.35</td><td>No</td></tr><tr><td>4759-PXTAN</td><td>0.0</td><td>59.0</td><td>80.1</td><td>4693.2</td><td>No</td></tr><tr><td>4801-JZAZL</td><td>0.0</td><td>11.0</td><td>29.6</td><td>346.45</td><td>No</td></tr><tr><td>4803-AXVYP</td><td>1.0</td><td>38.0</td><td>99.55</td><td>3734.25</td><td>No</td></tr><tr><td>4815-GBTCD</td><td>0.0</td><td>4.0</td><td>25.15</td><td>99.95</td><td>No</td></tr><tr><td>4829-ZLJTK</td><td>1.0</td><td>72.0</td><td>112.4</td><td>8046.85</td><td>No</td></tr><tr><td>4830-FAXFM</td><td>0.0</td><td>19.0</td><td>24.1</td><td>439.2</td><td>No</td></tr><tr><td>4846-WHAFZ</td><td>1.0</td><td>37.0</td><td>76.5</td><td>2868.15</td><td>No</td></tr><tr><td>4853-OITSN</td><td>0.0</td><td>5.0</td><td>89.15</td><td>413.25</td><td>Yes</td></tr><tr><td>4883-QICIH</td><td>0.0</td><td>32.0</td><td>69.75</td><td>2347.9</td><td>No</td></tr><tr><td>4940-KHCWD</td><td>0.0</td><td>60.0</td><td>37.7</td><td>2288.7</td><td>No</td></tr><tr><td>4980-URKXC</td><td>0.0</td><td>36.0</td><td>20.85</td><td>720.05</td><td>No</td></tr><tr><td>4989-LIXVT</td><td>1.0</td><td>68.0</td><td>95.9</td><td>6503.2</td><td>No</td></tr><tr><td>4999-IEZLT</td><td>0.0</td><td>66.0</td><td>29.45</td><td>1983.15</td><td>No</td></tr><tr><td>5002-GCQFH</td><td>0.0</td><td>49.0</td><td>93.85</td><td>4733.1</td><td>No</td></tr><tr><td>5025-GOOKI</td><td>0.0</td><td>20.0</td><td>18.9</td><td>347.65</td><td>No</td></tr><tr><td>5028-GZLDO</td><td>0.0</td><td>2.0</td><td>70.7</td><td>140.7</td><td>Yes</td></tr><tr><td>5032-USPKF</td><td>0.0</td><td>38.0</td><td>84.1</td><td>3187.65</td><td>No</td></tr><tr><td>5039-LZRQT</td><td>0.0</td><td>13.0</td><td>20.2</td><td>273.25</td><td>No</td></tr><tr><td>5074-FBGHB</td><td>0.0</td><td>64.0</td><td>104.65</td><td>6889.8</td><td>No</td></tr><tr><td>5076-YVXCM</td><td>0.0</td><td>51.0</td><td>83.4</td><td>4149.45</td><td>No</td></tr><tr><td>5077-DXTCG</td><td>0.0</td><td>1.0</td><td>45.3</td><td>45.3</td><td>No</td></tr><tr><td>5090-EMGTC</td><td>0.0</td><td>59.0</td><td>100.05</td><td>6034.85</td><td>No</td></tr><tr><td>5093-FEGLU</td><td>0.0</td><td>47.0</td><td>19.65</td><td>921.55</td><td>No</td></tr><tr><td>5099-BAILX</td><td>1.0</td><td>43.0</td><td>110.75</td><td>4687.9</td><td>No</td></tr><tr><td>5115-GZDEL</td><td>0.0</td><td>72.0</td><td>67.2</td><td>4671.7</td><td>No</td></tr><tr><td>5129-HHMZC</td><td>0.0</td><td>43.0</td><td>86.45</td><td>3574.5</td><td>No</td></tr><tr><td>5130-IEKQT</td><td>1.0</td><td>25.0</td><td>105.95</td><td>2655.25</td><td>No</td></tr><tr><td>5143-WMWOG</td><td>0.0</td><td>1.0</td><td>19.95</td><td>19.95</td><td>No</td></tr><tr><td>5144-PQCDZ</td><td>0.0</td><td>4.0</td><td>19.95</td><td>59.25</td><td>No</td></tr><tr><td>5148-ORICT</td><td>0.0</td><td>64.0</td><td>74.35</td><td>4759.55</td><td>No</td></tr><tr><td>5197-PYEPU</td><td>0.0</td><td>42.0</td><td>94.45</td><td>3923.8</td><td>No</td></tr><tr><td>5204-QZXPU</td><td>0.0</td><td>19.0</td><td>39.65</td><td>733.35</td><td>No</td></tr><tr><td>5222-JCXZT</td><td>0.0</td><td>4.0</td><td>19.0</td><td>78.9</td><td>No</td></tr><tr><td>5318-YKDPV</td><td>0.0</td><td>43.0</td><td>79.15</td><td>3566.6</td><td>No</td></tr><tr><td>5327-CNLUQ</td><td>0.0</td><td>48.0</td><td>96.9</td><td>4473.45</td><td>No</td></tr><tr><td>5501-TVMGM</td><td>0.0</td><td>1.0</td><td>55.25</td><td>55.25</td><td>No</td></tr><tr><td>5502-RLUYV</td><td>0.0</td><td>69.0</td><td>103.95</td><td>7446.9</td><td>No</td></tr><tr><td>5512-IDZEI</td><td>0.0</td><td>46.0</td><td>24.9</td><td>1174.8</td><td>No</td></tr><tr><td>5522-NYKPB</td><td>0.0</td><td>25.0</td><td>85.9</td><td>2199.05</td><td>No</td></tr><tr><td>5524-KHNJP</td><td>0.0</td><td>33.0</td><td>74.75</td><td>2453.3</td><td>No</td></tr><tr><td>5533-RJFTJ</td><td>0.0</td><td>49.0</td><td>30.2</td><td>1453.1</td><td>No</td></tr><tr><td>5546-QUERU</td><td>0.0</td><td>13.0</td><td>19.95</td><td>257.0</td><td>No</td></tr><tr><td>5552-ZNFSJ</td><td>0.0</td><td>1.0</td><td>45.3</td><td>45.3</td><td>No</td></tr><tr><td>5565-FILXA</td><td>1.0</td><td>16.0</td><td>96.15</td><td>1529.2</td><td>No</td></tr><tr><td>5569-KGJHX</td><td>0.0</td><td>9.0</td><td>85.35</td><td>754.65</td><td>Yes</td></tr><tr><td>5569-OUICF</td><td>1.0</td><td>28.0</td><td>101.3</td><td>2812.2</td><td>No</td></tr><tr><td>5572-ZDXHY</td><td>0.0</td><td>22.0</td><td>84.3</td><td>1855.65</td><td>No</td></tr><tr><td>5651-WYIPH</td><td>1.0</td><td>18.0</td><td>49.85</td><td>865.75</td><td>No</td></tr><tr><td>5655-JSMZM</td><td>1.0</td><td>49.0</td><td>96.2</td><td>4718.25</td><td>No</td></tr><tr><td>5673-TIYIB</td><td>0.0</td><td>2.0</td><td>40.4</td><td>77.15</td><td>No</td></tr><tr><td>5788-YPOEG</td><td>0.0</td><td>34.0</td><td>84.75</td><td>2839.45</td><td>No</td></tr><tr><td>5879-HMFFH</td><td>0.0</td><td>72.0</td><td>88.05</td><td>6520.8</td><td>No</td></tr><tr><td>5906-DVAPM</td><td>0.0</td><td>55.0</td><td>75.0</td><td>4213.9</td><td>No</td></tr><tr><td>5909-ECHUI</td><td>0.0</td><td>1.0</td><td>56.25</td><td>56.25</td><td>No</td></tr><tr><td>5913-INRQV</td><td>1.0</td><td>34.0</td><td>90.15</td><td>3128.8</td><td>No</td></tr><tr><td>5931-FLJJF</td><td>1.0</td><td>7.0</td><td>70.1</td><td>467.55</td><td>Yes</td></tr><tr><td>5954-BDFSG</td><td>0.0</td><td>72.0</td><td>107.5</td><td>7853.7</td><td>No</td></tr><tr><td>5959-BELXA</td><td>1.0</td><td>32.0</td><td>96.15</td><td>3019.25</td><td>No</td></tr><tr><td>5975-BAICR</td><td>0.0</td><td>36.0</td><td>63.7</td><td>2188.5</td><td>No</td></tr><tr><td>6048-NJXHX</td><td>0.0</td><td>41.0</td><td>19.75</td><td>899.45</td><td>No</td></tr><tr><td>6061-PQHMK</td><td>0.0</td><td>25.0</td><td>19.9</td><td>527.5</td><td>No</td></tr><tr><td>6072-NUQCB</td><td>0.0</td><td>22.0</td><td>20.25</td><td>488.25</td><td>No</td></tr><tr><td>6087-MVHJH</td><td>0.0</td><td>16.0</td><td>88.45</td><td>1422.1</td><td>No</td></tr><tr><td>6103-BOCOU</td><td>0.0</td><td>26.0</td><td>80.7</td><td>2193.0</td><td>No</td></tr><tr><td>6110-OHIHY</td><td>0.0</td><td>3.0</td><td>79.25</td><td>267.6</td><td>Yes</td></tr><tr><td>6147-CBCRA</td><td>0.0</td><td>33.0</td><td>20.05</td><td>669.45</td><td>No</td></tr><tr><td>6161-ERDGD</td><td>0.0</td><td>71.0</td><td>85.45</td><td>6300.85</td><td>No</td></tr><tr><td>6166-YIPFO</td><td>0.0</td><td>72.0</td><td>64.7</td><td>4746.05</td><td>No</td></tr><tr><td>6195-MELTI</td><td>0.0</td><td>57.0</td><td>54.65</td><td>3134.7</td><td>No</td></tr><tr><td>6215-NQCPY</td><td>0.0</td><td>15.0</td><td>99.7</td><td>1566.75</td><td>Yes</td></tr><tr><td>6298-QDFNH</td><td>0.0</td><td>22.0</td><td>79.35</td><td>1730.35</td><td>No</td></tr><tr><td>6303-KFWSL</td><td>0.0</td><td>29.0</td><td>55.25</td><td>1620.2</td><td>No</td></tr><tr><td>6330-JKLPC</td><td>0.0</td><td>11.0</td><td>80.5</td><td>896.9</td><td>Yes</td></tr><tr><td>6338-AVWCY</td><td>0.0</td><td>3.0</td><td>40.15</td><td>130.75</td><td>No</td></tr><tr><td>6340-DACFT</td><td>0.0</td><td>50.0</td><td>20.55</td><td>1070.25</td><td>No</td></tr><tr><td>6393-WRYZE</td><td>0.0</td><td>34.0</td><td>97.65</td><td>3207.55</td><td>No</td></tr><tr><td>6394-MFYNG</td><td>0.0</td><td>48.0</td><td>107.4</td><td>5121.3</td><td>No</td></tr><tr><td>6437-UKHMV</td><td>0.0</td><td>7.0</td><td>79.7</td><td>586.05</td><td>Yes</td></tr><tr><td>6467-CHFZW</td><td>0.0</td><td>47.0</td><td>99.35</td><td>4749.15</td><td>No</td></tr><tr><td>6521-YYTYI</td><td>0.0</td><td>1.0</td><td>93.3</td><td>93.3</td><td>Yes</td></tr><tr><td>6559-RAKOZ</td><td>0.0</td><td>49.0</td><td>97.95</td><td>4917.9</td><td>No</td></tr><tr><td>6614-VBEGU</td><td>0.0</td><td>24.0</td><td>69.45</td><td>1614.05</td><td>No</td></tr><tr><td>6614-YWYSC</td><td>1.0</td><td>61.0</td><td>25.0</td><td>1501.75</td><td>No</td></tr><tr><td>6680-NENYN</td><td>0.0</td><td>43.0</td><td>104.6</td><td>4759.85</td><td>No</td></tr><tr><td>6688-UZPWD</td><td>0.0</td><td>11.0</td><td>102.0</td><td>1145.35</td><td>Yes</td></tr><tr><td>6770-UAYGJ</td><td>0.0</td><td>49.0</td><td>25.25</td><td>1211.65</td><td>No</td></tr><tr><td>6806-YDEUL</td><td>1.0</td><td>6.0</td><td>19.5</td><td>106.8</td><td>No</td></tr><tr><td>6834-NXDCA</td><td>0.0</td><td>13.0</td><td>23.9</td><td>300.8</td><td>No</td></tr><tr><td>6840-RESVB</td><td>0.0</td><td>24.0</td><td>84.8</td><td>1990.5</td><td>No</td></tr><tr><td>6873-UDNLD</td><td>0.0</td><td>40.0</td><td>67.45</td><td>2731.0</td><td>No</td></tr><tr><td>6900-RBKER</td><td>0.0</td><td>52.0</td><td>89.45</td><td>4577.75</td><td>No</td></tr><tr><td>6923-AQONU</td><td>0.0</td><td>23.0</td><td>20.9</td><td>454.0</td><td>No</td></tr><tr><td>6937-GCDGQ</td><td>0.0</td><td>19.0</td><td>48.95</td><td>955.6</td><td>No</td></tr><tr><td>6952-OMNWB</td><td>1.0</td><td>68.0</td><td>80.35</td><td>5589.3</td><td>No</td></tr><tr><td>7005-CYUIL</td><td>1.0</td><td>71.0</td><td>99.4</td><td>7168.25</td><td>No</td></tr><tr><td>7021-XSNYE</td><td>0.0</td><td>7.0</td><td>49.65</td><td>305.55</td><td>No</td></tr><tr><td>7024-OHCCK</td><td>1.0</td><td>2.0</td><td>93.85</td><td>170.85</td><td>Yes</td></tr><tr><td>7030-NJVDP</td><td>0.0</td><td>24.0</td><td>89.25</td><td>2210.2</td><td>No</td></tr><tr><td>7055-JCGNI</td><td>0.0</td><td>70.0</td><td>111.95</td><td>7795.95</td><td>No</td></tr><tr><td>7065-YUNRY</td><td>0.0</td><td>1.0</td><td>45.3</td><td>45.3</td><td>No</td></tr><tr><td>7078-NVFAM</td><td>0.0</td><td>32.0</td><td>35.15</td><td>1051.05</td><td>No</td></tr><tr><td>7100-FQPRV</td><td>0.0</td><td>43.0</td><td>71.9</td><td>3173.35</td><td>No</td></tr><tr><td>7126-RBHSD</td><td>0.0</td><td>17.0</td><td>78.9</td><td>1348.95</td><td>No</td></tr><tr><td>7128-GGCNO</td><td>0.0</td><td>46.0</td><td>72.8</td><td>3249.4</td><td>No</td></tr><tr><td>7133-VBDCG</td><td>0.0</td><td>25.0</td><td>79.85</td><td>2015.35</td><td>No</td></tr><tr><td>7156-MHUGY</td><td>1.0</td><td>13.0</td><td>90.5</td><td>1201.15</td><td>Yes</td></tr><tr><td>7156-MXBJE</td><td>0.0</td><td>43.0</td><td>85.1</td><td>3662.25</td><td>No</td></tr><tr><td>7159-NOKYQ</td><td>0.0</td><td>67.0</td><td>93.15</td><td>6368.2</td><td>No</td></tr><tr><td>7161-DFHUF</td><td>0.0</td><td>71.0</td><td>23.85</td><td>1672.1</td><td>No</td></tr><tr><td>7249-WBIYX</td><td>0.0</td><td>10.0</td><td>85.6</td><td>813.85</td><td>Yes</td></tr><tr><td>7272-QDCKA</td><td>0.0</td><td>28.0</td><td>100.2</td><td>2688.45</td><td>No</td></tr><tr><td>7277-KAMWT</td><td>0.0</td><td>13.0</td><td>20.0</td><td>268.45</td><td>No</td></tr><tr><td>7325-ENZFI</td><td>0.0</td><td>39.0</td><td>40.3</td><td>1630.4</td><td>No</td></tr><tr><td>7389-KBFIT</td><td>0.0</td><td>2.0</td><td>30.25</td><td>63.75</td><td>No</td></tr><tr><td>7398-SKNQZ</td><td>0.0</td><td>3.0</td><td>94.9</td><td>273.2</td><td>Yes</td></tr><tr><td>7432-FFVAR</td><td>0.0</td><td>46.0</td><td>90.95</td><td>4236.6</td><td>No</td></tr><tr><td>7442-YGZFK</td><td>0.0</td><td>1.0</td><td>49.8</td><td>49.8</td><td>No</td></tr><tr><td>7488-MXJIV</td><td>0.0</td><td>4.0</td><td>85.65</td><td>321.65</td><td>Yes</td></tr><tr><td>7530-HDYDS</td><td>0.0</td><td>38.0</td><td>84.25</td><td>3264.5</td><td>No</td></tr><tr><td>7534-BFESC</td><td>1.0</td><td>24.0</td><td>76.1</td><td>1712.7</td><td>No</td></tr><tr><td>7547-EKNFS</td><td>0.0</td><td>42.0</td><td>95.25</td><td>3959.35</td><td>No</td></tr><tr><td>7599-NTMDP</td><td>0.0</td><td>62.0</td><td>48.7</td><td>3008.55</td><td>No</td></tr><tr><td>7670-ZBPOQ</td><td>0.0</td><td>58.0</td><td>61.05</td><td>3478.75</td><td>No</td></tr><tr><td>7690-KPNCU</td><td>0.0</td><td>64.0</td><td>73.05</td><td>4688.65</td><td>No</td></tr><tr><td>7693-QPEFS</td><td>1.0</td><td>52.0</td><td>72.95</td><td>3829.75</td><td>No</td></tr><tr><td>7714-YXSMB</td><td>0.0</td><td>26.0</td><td>100.5</td><td>2599.95</td><td>No</td></tr><tr><td>7746-AWNQW</td><td>0.0</td><td>28.0</td><td>35.75</td><td>961.4</td><td>No</td></tr><tr><td>7779-LGOVN</td><td>1.0</td><td>10.0</td><td>86.65</td><td>856.65</td><td>Yes</td></tr><tr><td>7781-EWARA</td><td>0.0</td><td>70.0</td><td>60.35</td><td>4138.7</td><td>No</td></tr><tr><td>7833-PKIHD</td><td>0.0</td><td>51.0</td><td>76.4</td><td>3966.3</td><td>No</td></tr><tr><td>7881-EVUAD</td><td>0.0</td><td>2.0</td><td>42.6</td><td>72.4</td><td>No</td></tr><tr><td>7926-IJOOU</td><td>0.0</td><td>1.0</td><td>19.3</td><td>19.3</td><td>No</td></tr><tr><td>7957-RYHQD</td><td>1.0</td><td>40.0</td><td>79.2</td><td>3233.85</td><td>No</td></tr><tr><td>7989-CHGTL</td><td>0.0</td><td>1.0</td><td>19.6</td><td>19.6</td><td>No</td></tr><tr><td>7998-ZLXWN</td><td>0.0</td><td>15.0</td><td>20.45</td><td>330.8</td><td>No</td></tr><tr><td>8006-PYCSW</td><td>0.0</td><td>2.0</td><td>20.1</td><td>39.8</td><td>No</td></tr><tr><td>8020-BWHYL</td><td>1.0</td><td>15.0</td><td>75.3</td><td>1147.45</td><td>Yes</td></tr><tr><td>8051-HJRLT</td><td>1.0</td><td>1.0</td><td>70.55</td><td>70.55</td><td>Yes</td></tr><tr><td>8053-WWDRO</td><td>0.0</td><td>6.0</td><td>19.5</td><td>146.3</td><td>No</td></tr><tr><td>8069-YQQAJ</td><td>0.0</td><td>14.0</td><td>31.1</td><td>419.7</td><td>No</td></tr><tr><td>8111-BKVDS</td><td>0.0</td><td>10.0</td><td>40.7</td><td>449.3</td><td>No</td></tr><tr><td>8118-TJAFG</td><td>0.0</td><td>9.0</td><td>101.5</td><td>906.85</td><td>Yes</td></tr><tr><td>8148-WOCMK</td><td>0.0</td><td>8.0</td><td>19.6</td><td>125.0</td><td>No</td></tr><tr><td>8160-HOWOX</td><td>0.0</td><td>7.0</td><td>66.85</td><td>458.1</td><td>No</td></tr><tr><td>8182-BJDSI</td><td>0.0</td><td>28.0</td><td>89.95</td><td>2625.55</td><td>No</td></tr><tr><td>8201-AAXCB</td><td>0.0</td><td>25.0</td><td>60.35</td><td>1404.65</td><td>No</td></tr><tr><td>8234-GSZYK</td><td>0.0</td><td>43.0</td><td>26.45</td><td>1110.05</td><td>No</td></tr><tr><td>8250-ZNGGW</td><td>1.0</td><td>5.0</td><td>59.9</td><td>287.85</td><td>No</td></tr><tr><td>8272-ONJLV</td><td>0.0</td><td>12.0</td><td>95.7</td><td>1184.0</td><td>Yes</td></tr><tr><td>8280-MQRQN</td><td>0.0</td><td>1.0</td><td>50.45</td><td>50.45</td><td>No</td></tr><tr><td>8292-FRFZQ</td><td>0.0</td><td>39.0</td><td>41.15</td><td>1700.9</td><td>No</td></tr><tr><td>8292-ITGYJ</td><td>0.0</td><td>45.0</td><td>24.65</td><td>1138.8</td><td>No</td></tr><tr><td>8336-TAVKX</td><td>1.0</td><td>72.0</td><td>78.45</td><td>5682.25</td><td>No</td></tr><tr><td>8345-MVDYC</td><td>0.0</td><td>45.0</td><td>81.65</td><td>3618.7</td><td>No</td></tr><tr><td>8388-DMKAE</td><td>0.0</td><td>8.0</td><td>20.25</td><td>174.65</td><td>No</td></tr><tr><td>8410-BGQXN</td><td>0.0</td><td>4.0</td><td>19.4</td><td>93.4</td><td>No</td></tr><tr><td>8433-WXGNA</td><td>0.0</td><td>2.0</td><td>75.7</td><td>189.2</td><td>Yes</td></tr><tr><td>8445-DNBAE</td><td>0.0</td><td>1.0</td><td>50.05</td><td>50.05</td><td>No</td></tr><tr><td>8467-WYNSR</td><td>0.0</td><td>22.0</td><td>55.1</td><td>1253.15</td><td>No</td></tr><tr><td>8498-XXGWA</td><td>0.0</td><td>65.0</td><td>55.15</td><td>3673.15</td><td>No</td></tr><tr><td>8512-WIWYV</td><td>0.0</td><td>32.0</td><td>20.35</td><td>707.5</td><td>No</td></tr><tr><td>8513-OLYGY</td><td>0.0</td><td>72.0</td><td>115.8</td><td>8332.15</td><td>No</td></tr><tr><td>8565-CLBZW</td><td>0.0</td><td>24.0</td><td>89.85</td><td>2165.05</td><td>No</td></tr><tr><td>8584-KMVXD</td><td>0.0</td><td>8.0</td><td>75.6</td><td>535.55</td><td>Yes</td></tr><tr><td>8590-OHDIW</td><td>0.0</td><td>38.0</td><td>20.3</td><td>749.35</td><td>No</td></tr><tr><td>8630-FJLIB</td><td>0.0</td><td>18.0</td><td>69.8</td><td>1221.65</td><td>No</td></tr><tr><td>8650-RHRKE</td><td>0.0</td><td>4.0</td><td>29.65</td><td>118.5</td><td>No</td></tr><tr><td>8659-HDIYE</td><td>1.0</td><td>64.0</td><td>74.65</td><td>4869.35</td><td>No</td></tr><tr><td>8676-OOQEJ</td><td>0.0</td><td>4.0</td><td>30.5</td><td>118.4</td><td>No</td></tr><tr><td>8739-XNIKG</td><td>0.0</td><td>5.0</td><td>84.0</td><td>424.75</td><td>Yes</td></tr><tr><td>8746-BFOAJ</td><td>1.0</td><td>21.0</td><td>20.5</td><td>429.55</td><td>No</td></tr><tr><td>8752-GHJFU</td><td>1.0</td><td>71.0</td><td>92.0</td><td>6585.2</td><td>No</td></tr><tr><td>8769-KKTPH</td><td>0.0</td><td>63.0</td><td>99.65</td><td>6311.2</td><td>No</td></tr><tr><td>8779-QRDMV</td><td>1.0</td><td>1.0</td><td>39.65</td><td>39.65</td><td>No</td></tr><tr><td>8784-CGILN</td><td>0.0</td><td>18.0</td><td>99.85</td><td>1776.95</td><td>No</td></tr><tr><td>8849-GYOKR</td><td>0.0</td><td>54.0</td><td>106.55</td><td>5763.3</td><td>No</td></tr><tr><td>8849-PRIQJ</td><td>0.0</td><td>67.0</td><td>109.4</td><td>7281.6</td><td>No</td></tr><tr><td>8905-IAZPF</td><td>0.0</td><td>69.0</td><td>95.65</td><td>6744.2</td><td>No</td></tr><tr><td>8943-URTMR</td><td>0.0</td><td>2.0</td><td>79.65</td><td>152.7</td><td>Yes</td></tr><tr><td>8945-GRKHX</td><td>0.0</td><td>1.0</td><td>78.65</td><td>78.65</td><td>Yes</td></tr><tr><td>8972-HJWNV</td><td>1.0</td><td>7.0</td><td>84.55</td><td>646.85</td><td>Yes</td></tr><tr><td>8982-NHAVY</td><td>0.0</td><td>27.0</td><td>100.5</td><td>2673.45</td><td>No</td></tr><tr><td>8999-XXGNS</td><td>1.0</td><td>72.0</td><td>105.75</td><td>7629.85</td><td>No</td></tr><tr><td>9054-FOWNV</td><td>0.0</td><td>22.0</td><td>88.75</td><td>1885.15</td><td>No</td></tr><tr><td>9057-MSWCO</td><td>1.0</td><td>27.0</td><td>30.75</td><td>805.1</td><td>No</td></tr><tr><td>9172-ANCRX</td><td>0.0</td><td>10.0</td><td>98.7</td><td>973.25</td><td>Yes</td></tr><tr><td>9254-RBFON</td><td>0.0</td><td>17.0</td><td>98.6</td><td>1704.95</td><td>No</td></tr><tr><td>9274-UARKJ</td><td>0.0</td><td>15.0</td><td>83.2</td><td>1130.0</td><td>Yes</td></tr><tr><td>9283-LZQOH</td><td>0.0</td><td>13.0</td><td>74.4</td><td>896.75</td><td>Yes</td></tr><tr><td>9317-WZPGV</td><td>1.0</td><td>2.0</td><td>79.75</td><td>159.4</td><td>Yes</td></tr><tr><td>9348-YVOMK</td><td>0.0</td><td>4.0</td><td>44.8</td><td>176.2</td><td>No</td></tr><tr><td>9351-HXDMR</td><td>0.0</td><td>72.0</td><td>110.9</td><td>8240.85</td><td>No</td></tr><tr><td>9356-AXGMP</td><td>0.0</td><td>38.0</td><td>110.7</td><td>4428.6</td><td>No</td></tr><tr><td>9372-TXXPS</td><td>0.0</td><td>60.0</td><td>59.85</td><td>3483.45</td><td>No</td></tr><tr><td>9385-NXKDA</td><td>0.0</td><td>72.0</td><td>82.65</td><td>5919.35</td><td>No</td></tr><tr><td>9392-XBGTD</td><td>0.0</td><td>27.0</td><td>20.6</td><td>581.85</td><td>No</td></tr><tr><td>9435-JMLSX</td><td>0.0</td><td>71.0</td><td>86.1</td><td>6045.9</td><td>No</td></tr><tr><td>9497-QCMMS</td><td>1.0</td><td>1.0</td><td>93.55</td><td>93.55</td><td>Yes</td></tr><tr><td>9534-NSXEM</td><td>0.0</td><td>26.0</td><td>20.65</td><td>595.5</td><td>No</td></tr><tr><td>9548-LERKT</td><td>0.0</td><td>24.0</td><td>19.75</td><td>483.15</td><td>No</td></tr><tr><td>9552-TGUZV</td><td>0.0</td><td>8.0</td><td>75.0</td><td>658.1</td><td>Yes</td></tr><tr><td>9571-EDEBV</td><td>0.0</td><td>71.0</td><td>98.65</td><td>6962.85</td><td>No</td></tr><tr><td>9609-BENEA</td><td>0.0</td><td>35.0</td><td>69.0</td><td>2441.7</td><td>No</td></tr><tr><td>9618-LFJRU</td><td>0.0</td><td>4.0</td><td>20.45</td><td>82.85</td><td>No</td></tr><tr><td>9631-XEYKE</td><td>0.0</td><td>3.0</td><td>50.4</td><td>137.25</td><td>No</td></tr><tr><td>9643-AVVWI</td><td>0.0</td><td>3.0</td><td>80.0</td><td>241.3</td><td>Yes</td></tr><tr><td>9699-UBQFS</td><td>1.0</td><td>43.0</td><td>94.5</td><td>4156.8</td><td>No</td></tr><tr><td>9715-WZCLW</td><td>0.0</td><td>71.0</td><td>97.2</td><td>6910.3</td><td>No</td></tr><tr><td>9817-APLHW</td><td>0.0</td><td>12.0</td><td>25.0</td><td>316.2</td><td>No</td></tr><tr><td>9819-FBNSV</td><td>1.0</td><td>37.0</td><td>72.25</td><td>2575.45</td><td>No</td></tr><tr><td>9822-BIIGN</td><td>0.0</td><td>53.0</td><td>71.85</td><td>3827.9</td><td>No</td></tr><tr><td>9824-QCJPK</td><td>0.0</td><td>36.0</td><td>20.0</td><td>666.75</td><td>No</td></tr><tr><td>9825-YCXWZ</td><td>1.0</td><td>41.0</td><td>101.1</td><td>4016.2</td><td>No</td></tr><tr><td>9847-HNVGP</td><td>0.0</td><td>17.0</td><td>19.95</td><td>310.6</td><td>No</td></tr><tr><td>9851-QXEEQ</td><td>0.0</td><td>41.0</td><td>104.7</td><td>4346.4</td><td>No</td></tr><tr><td>9944-HKVVB</td><td>0.0</td><td>3.0</td><td>95.1</td><td>307.4</td><td>Yes</td></tr><tr><td>9967-ATRFS</td><td>0.0</td><td>19.0</td><td>19.9</td><td>367.55</td><td>No</td></tr><tr><td>9992-UJOEL</td><td>0.0</td><td>2.0</td><td>50.3</td><td>92.75</td><td>No</td></tr></tbody></table></div>"
      ]
     },
     "metadata": {
      "application/vnd.databricks.v1+output": {
       "addedWidgets": {},
       "aggData": [],
       "aggError": "",
       "aggOverflow": false,
       "aggSchema": [],
       "aggSeriesLimitReached": false,
       "aggType": "",
       "arguments": {},
       "columnCustomDisplayInfos": {},
       "data": [
        [
         "0013-EXCHZ",
         1.0,
         3.0,
         83.9,
         267.4,
         "Yes"
        ],
        [
         "0027-KWYKW",
         0.0,
         23.0,
         83.75,
         1849.95,
         "No"
        ],
        [
         "0048-LUMLS",
         0.0,
         37.0,
         91.2,
         3247.55,
         "No"
        ],
        [
         "0078-XZMHT",
         0.0,
         72.0,
         85.15,
         6316.2,
         "No"
        ],
        [
         "0096-BXERS",
         0.0,
         6.0,
         50.35,
         314.55,
         "No"
        ],
        [
         "0114-IGABW",
         0.0,
         71.0,
         58.25,
         4145.9,
         "No"
        ],
        [
         "0139-IVFJG",
         0.0,
         2.0,
         90.35,
         190.5,
         "Yes"
        ],
        [
         "0188-GWFLE",
         0.0,
         2.0,
         20.05,
         33.7,
         "No"
        ],
        [
         "0218-QNVAS",
         0.0,
         71.0,
         100.55,
         7113.75,
         "No"
        ],
        [
         "0231-LXVAP",
         0.0,
         1.0,
         75.9,
         75.9,
         "Yes"
        ],
        [
         "0234-TEVTT",
         0.0,
         48.0,
         45.0,
         2196.3,
         "No"
        ],
        [
         "0239-OXEXL",
         0.0,
         46.0,
         84.25,
         3847.6,
         "No"
        ],
        [
         "0247-SLUJI",
         0.0,
         1.0,
         19.7,
         19.7,
         "No"
        ],
        [
         "0264-CNITK",
         0.0,
         71.0,
         20.1,
         1389.6,
         "No"
        ],
        [
         "0301-KOBTQ",
         0.0,
         32.0,
         20.05,
         614.45,
         "No"
        ],
        [
         "0311-UNPFF",
         0.0,
         26.0,
         88.8,
         2274.35,
         "No"
        ],
        [
         "0329-GTIAJ",
         0.0,
         3.0,
         97.9,
         315.3,
         "Yes"
        ],
        [
         "0454-OKRCT",
         0.0,
         33.0,
         80.6,
         2651.1,
         "No"
        ],
        [
         "0487-RPVUM",
         0.0,
         61.0,
         99.4,
         5943.65,
         "No"
        ],
        [
         "0516-OOHAR",
         0.0,
         28.0,
         100.35,
         2799.0,
         "No"
        ],
        [
         "0516-UXRMT",
         0.0,
         62.0,
         92.05,
         5755.8,
         "No"
        ],
        [
         "0516-VRYBW",
         0.0,
         18.0,
         20.15,
         390.85,
         "No"
        ],
        [
         "0585-EGDDA",
         0.0,
         40.0,
         80.0,
         3168.75,
         "No"
        ],
        [
         "0595-ITUDF",
         0.0,
         64.0,
         91.8,
         5960.5,
         "No"
        ],
        [
         "0665-XHDJU",
         0.0,
         72.0,
         99.4,
         7285.7,
         "No"
        ],
        [
         "0690-SRQID",
         0.0,
         4.0,
         19.65,
         67.55,
         "No"
        ],
        [
         "0708-LGSMF",
         0.0,
         13.0,
         65.85,
         902.25,
         "No"
        ],
        [
         "0725-CXOTM",
         0.0,
         36.0,
         89.65,
         3348.1,
         "No"
        ],
        [
         "0731-EBJQB",
         0.0,
         52.0,
         20.4,
         1090.65,
         "No"
        ],
        [
         "0788-DXBFY",
         0.0,
         58.0,
         19.55,
         1108.8,
         "No"
        ],
        [
         "0812-WUPTB",
         1.0,
         1.0,
         70.85,
         70.85,
         "Yes"
        ],
        [
         "0902-XKXPN",
         0.0,
         69.0,
         20.2,
         1376.5,
         "No"
        ],
        [
         "0929-PECLO",
         1.0,
         63.0,
         89.6,
         5538.8,
         "No"
        ],
        [
         "0962-CQPWQ",
         0.0,
         62.0,
         20.3,
         1296.15,
         "No"
        ],
        [
         "0988-AADSA",
         0.0,
         72.0,
         80.85,
         5824.75,
         "No"
        ],
        [
         "1053-MXTTK",
         0.0,
         72.0,
         108.65,
         7726.35,
         "No"
        ],
        [
         "1122-YJBCS",
         0.0,
         69.0,
         53.65,
         3804.4,
         "No"
        ],
        [
         "1142-WACZW",
         0.0,
         2.0,
         29.85,
         75.6,
         "No"
        ],
        [
         "1167-OYZJF",
         1.0,
         67.0,
         20.05,
         1263.05,
         "No"
        ],
        [
         "1172-VIYBP",
         0.0,
         53.0,
         69.7,
         3686.05,
         "No"
        ],
        [
         "1184-PJVDB",
         0.0,
         10.0,
         79.95,
         857.2,
         "Yes"
        ],
        [
         "1194-SPVSP",
         0.0,
         1.0,
         19.65,
         19.65,
         "No"
        ],
        [
         "1304-BCCFO",
         0.0,
         9.0,
         70.05,
         564.4,
         "Yes"
        ],
        [
         "1307-TVUFB",
         1.0,
         42.0,
         79.35,
         3344.1,
         "No"
        ],
        [
         "1310-QRITU",
         0.0,
         18.0,
         50.3,
         913.3,
         "No"
        ],
        [
         "1322-AGOQM",
         0.0,
         46.0,
         30.3,
         1380.1,
         "No"
        ],
        [
         "1336-EZFZY",
         0.0,
         4.0,
         20.05,
         83.3,
         "No"
        ],
        [
         "1423-BMPBQ",
         0.0,
         1.0,
         19.0,
         19.0,
         "No"
        ],
        [
         "1431-AIDJQ",
         0.0,
         33.0,
         82.1,
         2603.1,
         "No"
        ],
        [
         "1471-GIQKQ",
         0.0,
         1.0,
         49.95,
         49.95,
         "No"
        ],
        [
         "1552-CZCLL",
         0.0,
         55.0,
         20.0,
         1087.25,
         "No"
        ],
        [
         "1557-EMYVT",
         0.0,
         43.0,
         115.05,
         4895.1,
         "No"
        ],
        [
         "1576-PFZIW",
         1.0,
         70.0,
         105.35,
         7511.9,
         "No"
        ],
        [
         "1622-HSHSF",
         0.0,
         1.0,
         19.55,
         19.55,
         "No"
        ],
        [
         "1705-GUHPV",
         0.0,
         63.0,
         24.2,
         1618.2,
         "No"
        ],
        [
         "1732-VHUBQ",
         1.0,
         47.0,
         70.55,
         3309.25,
         "No"
        ],
        [
         "1761-AEZZR",
         0.0,
         1.0,
         79.55,
         79.55,
         "Yes"
        ],
        [
         "1794-HBQTJ",
         0.0,
         1.0,
         48.6,
         48.6,
         "No"
        ],
        [
         "1897-OKVMW",
         0.0,
         64.0,
         90.6,
         5817.45,
         "No"
        ],
        [
         "1915-OAKWD",
         0.0,
         16.0,
         19.3,
         360.35,
         "No"
        ],
        [
         "1955-IBMMB",
         0.0,
         59.0,
         20.2,
         1192.3,
         "No"
        ],
        [
         "1956-YIFGE",
         0.0,
         22.0,
         100.05,
         2090.25,
         "No"
        ],
        [
         "2007-QVGAW",
         0.0,
         68.0,
         19.35,
         1292.65,
         "No"
        ],
        [
         "2037-XJFUP",
         0.0,
         33.0,
         95.8,
         3036.75,
         "No"
        ],
        [
         "2055-SIFSS",
         1.0,
         55.0,
         51.65,
         2838.55,
         "No"
        ],
        [
         "2075-RMJIK",
         0.0,
         5.0,
         49.4,
         232.55,
         "No"
        ],
        [
         "2144-ESWKO",
         0.0,
         43.0,
         35.2,
         1463.7,
         "No"
        ],
        [
         "2205-YMZZJ",
         1.0,
         7.0,
         84.8,
         546.95,
         "Yes"
        ],
        [
         "2207-RYYRL",
         0.0,
         52.0,
         24.55,
         1331.05,
         "No"
        ],
        [
         "2215-ZAFGX",
         0.0,
         9.0,
         85.5,
         791.7,
         "Yes"
        ],
        [
         "2229-DPMBI",
         0.0,
         8.0,
         19.5,
         162.15,
         "No"
        ],
        [
         "2235-ZGKPT",
         0.0,
         4.0,
         50.85,
         239.55,
         "No"
        ],
        [
         "2252-JHJGE",
         0.0,
         61.0,
         104.0,
         6363.45,
         "No"
        ],
        [
         "2272-UOINI",
         0.0,
         7.0,
         78.5,
         571.05,
         "Yes"
        ],
        [
         "2311-QYMUQ",
         0.0,
         16.0,
         89.45,
         1430.25,
         "No"
        ],
        [
         "2314-TNDJQ",
         0.0,
         72.0,
         55.65,
         3880.05,
         "No"
        ],
        [
         "2342-CKIAO",
         0.0,
         2.0,
         20.3,
         41.2,
         "No"
        ],
        [
         "2361-FJWNO",
         0.0,
         40.0,
         36.0,
         1382.9,
         "No"
        ],
        [
         "2368-GAKKQ",
         0.0,
         70.0,
         113.65,
         7939.25,
         "No"
        ],
        [
         "2371-KFUOG",
         0.0,
         58.0,
         99.15,
         5720.95,
         "No"
        ],
        [
         "2379-GYFLQ",
         0.0,
         46.0,
         94.9,
         4422.95,
         "No"
        ],
        [
         "2380-DAMQP",
         0.0,
         72.0,
         115.15,
         8349.7,
         "No"
        ],
        [
         "2474-BRUCM",
         1.0,
         40.0,
         101.85,
         4086.3,
         "No"
        ],
        [
         "2530-FMFXO",
         0.0,
         56.0,
         103.2,
         5873.75,
         "No"
        ],
        [
         "2573-GYRUU",
         1.0,
         48.0,
         91.05,
         4370.75,
         "No"
        ],
        [
         "2599-CZABP",
         0.0,
         14.0,
         44.6,
         641.25,
         "No"
        ],
        [
         "2662-NNTDK",
         0.0,
         65.0,
         24.8,
         1600.95,
         "No"
        ],
        [
         "2675-DHUTR",
         1.0,
         58.0,
         98.9,
         5780.7,
         "No"
        ],
        [
         "2700-LUEVA",
         0.0,
         1.0,
         20.75,
         20.75,
         "No"
        ],
        [
         "2712-SYWAY",
         0.0,
         1.0,
         25.7,
         25.7,
         "No"
        ],
        [
         "2722-JMONI",
         1.0,
         1.0,
         49.55,
         49.55,
         "No"
        ],
        [
         "2750-BJLSB",
         0.0,
         47.0,
         103.7,
         4730.6,
         "No"
        ],
        [
         "2761-OCIAX",
         1.0,
         2.0,
         74.7,
         165.4,
         "Yes"
        ],
        [
         "2774-LVQUS",
         1.0,
         15.0,
         83.05,
         1258.3,
         "Yes"
        ],
        [
         "2792-LSHWX",
         0.0,
         1.0,
         83.4,
         83.4,
         "Yes"
        ],
        [
         "2804-ETQDK",
         0.0,
         66.0,
         20.55,
         1357.1,
         "No"
        ],
        [
         "2834-JKOOW",
         0.0,
         15.0,
         45.9,
         693.45,
         "No"
        ],
        [
         "2862-JVEOY",
         0.0,
         6.0,
         19.15,
         124.4,
         "No"
        ],
        [
         "2919-HBCJO",
         0.0,
         4.0,
         76.65,
         333.6,
         "Yes"
        ],
        [
         "2931-FSOHN",
         1.0,
         13.0,
         59.9,
         788.35,
         "No"
        ],
        [
         "2933-FILNV",
         0.0,
         2.0,
         24.4,
         36.55,
         "No"
        ],
        [
         "2957-LOLHO",
         0.0,
         12.0,
         45.4,
         518.9,
         "No"
        ],
        [
         "2983-ZANRP",
         0.0,
         2.0,
         73.55,
         145.4,
         "Yes"
        ],
        [
         "3001-CBHLQ",
         1.0,
         32.0,
         104.9,
         3351.55,
         "No"
        ],
        [
         "3011-WQKSZ",
         0.0,
         19.0,
         20.0,
         377.55,
         "No"
        ],
        [
         "3030-YDNRM",
         0.0,
         8.0,
         74.85,
         572.45,
         "Yes"
        ],
        [
         "3062-ICYZQ",
         0.0,
         51.0,
         93.8,
         4539.35,
         "No"
        ],
        [
         "3097-IDVPU",
         0.0,
         19.0,
         50.1,
         910.45,
         "No"
        ],
        [
         "3106-ULWFW",
         0.0,
         8.0,
         85.2,
         627.4,
         "Yes"
        ],
        [
         "3125-RAHBV",
         0.0,
         22.0,
         20.3,
         467.15,
         "No"
        ],
        [
         "3223-DWFIO",
         1.0,
         4.0,
         69.35,
         261.65,
         "Yes"
        ],
        [
         "3229-USWAR",
         0.0,
         34.0,
         79.95,
         2727.3,
         "No"
        ],
        [
         "3262-EIDHV",
         0.0,
         72.0,
         84.7,
         5893.9,
         "No"
        ],
        [
         "3285-UCQVC",
         0.0,
         37.0,
         28.6,
         973.55,
         "No"
        ],
        [
         "3315-IKYZQ",
         0.0,
         28.0,
         50.8,
         1386.8,
         "No"
        ],
        [
         "3318-OSATS",
         1.0,
         35.0,
         95.45,
         3474.05,
         "No"
        ],
        [
         "3338-CVVEH",
         0.0,
         12.0,
         94.55,
         1173.55,
         "Yes"
        ],
        [
         "3374-PZLXD",
         0.0,
         34.0,
         19.7,
         675.6,
         "No"
        ],
        [
         "3422-WJOYD",
         0.0,
         28.0,
         54.35,
         1426.45,
         "No"
        ],
        [
         "3440-JPSCL",
         0.0,
         6.0,
         99.95,
         547.65,
         "Yes"
        ],
        [
         "3453-RTHJQ",
         0.0,
         6.0,
         69.1,
         435.0,
         "Yes"
        ],
        [
         "3486-HOOGQ",
         0.0,
         70.0,
         79.7,
         5743.3,
         "No"
        ],
        [
         "3521-SYVOR",
         0.0,
         37.0,
         64.75,
         2345.2,
         "No"
        ],
        [
         "3570-YUEKJ",
         0.0,
         42.0,
         49.55,
         2077.95,
         "No"
        ],
        [
         "3594-KADLU",
         0.0,
         3.0,
         35.1,
         101.1,
         "No"
        ],
        [
         "3648-GZPHF",
         0.0,
         32.0,
         36.25,
         1151.05,
         "No"
        ],
        [
         "3668-QPYBK",
         0.0,
         2.0,
         53.85,
         108.15,
         "No"
        ],
        [
         "3678-MNGZX",
         0.0,
         68.0,
         19.95,
         1377.7,
         "No"
        ],
        [
         "3704-IEAXF",
         0.0,
         72.0,
         53.65,
         3784.0,
         "No"
        ],
        [
         "3716-LRGXK",
         0.0,
         60.0,
         101.15,
         6067.4,
         "No"
        ],
        [
         "3729-OWRVL",
         1.0,
         65.0,
         110.35,
         7246.15,
         "No"
        ],
        [
         "3776-EKTKM",
         1.0,
         1.0,
         36.45,
         36.45,
         "No"
        ],
        [
         "3810-PJUHR",
         0.0,
         70.0,
         25.35,
         1715.15,
         "No"
        ],
        [
         "3813-DHBBB",
         0.0,
         67.0,
         50.95,
         3521.7,
         "No"
        ],
        [
         "3845-FXCYS",
         0.0,
         2.0,
         19.65,
         31.2,
         "No"
        ],
        [
         "3855-ONCAR",
         0.0,
         4.0,
         78.9,
         299.75,
         "Yes"
        ],
        [
         "3870-MQAMG",
         0.0,
         54.0,
         110.35,
         5893.15,
         "No"
        ],
        [
         "3886-CERTZ",
         0.0,
         72.0,
         109.25,
         8109.8,
         "No"
        ],
        [
         "3946-JEWRQ",
         0.0,
         47.0,
         95.2,
         4563.0,
         "No"
        ],
        [
         "3948-XHGNA",
         0.0,
         24.0,
         49.55,
         1210.4,
         "No"
        ],
        [
         "4001-TSBTV",
         0.0,
         58.0,
         91.55,
         5511.65,
         "No"
        ],
        [
         "4012-ZTHBR",
         0.0,
         21.0,
         44.95,
         926.25,
         "No"
        ],
        [
         "4024-CSNBY",
         0.0,
         72.0,
         94.25,
         6849.75,
         "No"
        ],
        [
         "4039-PIMHX",
         1.0,
         49.0,
         49.8,
         2398.4,
         "No"
        ],
        [
         "4049-ZPALD",
         0.0,
         64.0,
         99.0,
         6375.8,
         "No"
        ],
        [
         "4081-DYXAV",
         0.0,
         19.0,
         44.85,
         893.55,
         "No"
        ],
        [
         "4097-YODCF",
         0.0,
         34.0,
         103.8,
         3470.8,
         "No"
        ],
        [
         "4116-TZAQJ",
         0.0,
         9.0,
         74.25,
         639.65,
         "Yes"
        ],
        [
         "4176-RELJR",
         1.0,
         67.0,
         25.1,
         1672.15,
         "No"
        ],
        [
         "4203-QGNZA",
         0.0,
         28.0,
         20.25,
         535.35,
         "No"
        ],
        [
         "4223-BKEOR",
         0.0,
         21.0,
         64.85,
         1336.8,
         "No"
        ],
        [
         "4248-HCETZ",
         1.0,
         30.0,
         79.65,
         2365.15,
         "No"
        ],
        [
         "4274-DRSQT",
         0.0,
         66.0,
         88.9,
         6000.1,
         "No"
        ],
        [
         "4325-NFSKC",
         1.0,
         19.0,
         90.6,
         1660.0,
         "No"
        ],
        [
         "4378-BZYFP",
         0.0,
         17.0,
         20.5,
         365.8,
         "No"
        ],
        [
         "4429-WYGFR",
         0.0,
         26.0,
         49.15,
         1237.3,
         "No"
        ],
        [
         "4445-ZJNMU",
         0.0,
         9.0,
         99.3,
         918.75,
         "Yes"
        ],
        [
         "4446-BZKHU",
         0.0,
         61.0,
         105.55,
         6281.45,
         "No"
        ],
        [
         "4465-VDKIQ",
         0.0,
         18.0,
         77.8,
         1358.6,
         "No"
        ],
        [
         "4547-FZJWE",
         0.0,
         55.0,
         59.45,
         3157.0,
         "No"
        ],
        [
         "4547-KQRTM",
         0.0,
         10.0,
         80.05,
         830.7,
         "Yes"
        ],
        [
         "4559-UWIHT",
         0.0,
         14.0,
         82.65,
         1185.0,
         "Yes"
        ],
        [
         "4565-EVZMJ",
         0.0,
         47.0,
         58.9,
         2813.05,
         "No"
        ],
        [
         "4570-QHXHL",
         0.0,
         9.0,
         43.75,
         405.7,
         "No"
        ],
        [
         "4573-JKNAE",
         0.0,
         12.0,
         19.35,
         212.3,
         "No"
        ],
        [
         "4580-TMHJU",
         0.0,
         43.0,
         56.15,
         2499.3,
         "No"
        ],
        [
         "4583-PARNH",
         1.0,
         16.0,
         91.55,
         1540.05,
         "No"
        ],
        [
         "4597-ELFTS",
         0.0,
         56.0,
         24.9,
         1334.0,
         "No"
        ],
        [
         "4632-XJMEX",
         0.0,
         53.0,
         62.85,
         3419.5,
         "No"
        ],
        [
         "4647-XXZAM",
         0.0,
         6.0,
         45.5,
         285.2,
         "No"
        ],
        [
         "4654-DLAMQ",
         1.0,
         64.0,
         97.0,
         6430.9,
         "No"
        ],
        [
         "4671-LXRDQ",
         0.0,
         2.0,
         45.0,
         96.45,
         "No"
        ],
        [
         "4707-MAXGU",
         0.0,
         72.0,
         25.85,
         1872.2,
         "No"
        ],
        [
         "4710-NKCAW",
         0.0,
         5.0,
         64.4,
         316.9,
         "No"
        ],
        [
         "4713-ZBURT",
         0.0,
         45.0,
         99.7,
         4634.35,
         "No"
        ],
        [
         "4759-PXTAN",
         0.0,
         59.0,
         80.1,
         4693.2,
         "No"
        ],
        [
         "4801-JZAZL",
         0.0,
         11.0,
         29.6,
         346.45,
         "No"
        ],
        [
         "4803-AXVYP",
         1.0,
         38.0,
         99.55,
         3734.25,
         "No"
        ],
        [
         "4815-GBTCD",
         0.0,
         4.0,
         25.15,
         99.95,
         "No"
        ],
        [
         "4829-ZLJTK",
         1.0,
         72.0,
         112.4,
         8046.85,
         "No"
        ],
        [
         "4830-FAXFM",
         0.0,
         19.0,
         24.1,
         439.2,
         "No"
        ],
        [
         "4846-WHAFZ",
         1.0,
         37.0,
         76.5,
         2868.15,
         "No"
        ],
        [
         "4853-OITSN",
         0.0,
         5.0,
         89.15,
         413.25,
         "Yes"
        ],
        [
         "4883-QICIH",
         0.0,
         32.0,
         69.75,
         2347.9,
         "No"
        ],
        [
         "4940-KHCWD",
         0.0,
         60.0,
         37.7,
         2288.7,
         "No"
        ],
        [
         "4980-URKXC",
         0.0,
         36.0,
         20.85,
         720.05,
         "No"
        ],
        [
         "4989-LIXVT",
         1.0,
         68.0,
         95.9,
         6503.2,
         "No"
        ],
        [
         "4999-IEZLT",
         0.0,
         66.0,
         29.45,
         1983.15,
         "No"
        ],
        [
         "5002-GCQFH",
         0.0,
         49.0,
         93.85,
         4733.1,
         "No"
        ],
        [
         "5025-GOOKI",
         0.0,
         20.0,
         18.9,
         347.65,
         "No"
        ],
        [
         "5028-GZLDO",
         0.0,
         2.0,
         70.7,
         140.7,
         "Yes"
        ],
        [
         "5032-USPKF",
         0.0,
         38.0,
         84.1,
         3187.65,
         "No"
        ],
        [
         "5039-LZRQT",
         0.0,
         13.0,
         20.2,
         273.25,
         "No"
        ],
        [
         "5074-FBGHB",
         0.0,
         64.0,
         104.65,
         6889.8,
         "No"
        ],
        [
         "5076-YVXCM",
         0.0,
         51.0,
         83.4,
         4149.45,
         "No"
        ],
        [
         "5077-DXTCG",
         0.0,
         1.0,
         45.3,
         45.3,
         "No"
        ],
        [
         "5090-EMGTC",
         0.0,
         59.0,
         100.05,
         6034.85,
         "No"
        ],
        [
         "5093-FEGLU",
         0.0,
         47.0,
         19.65,
         921.55,
         "No"
        ],
        [
         "5099-BAILX",
         1.0,
         43.0,
         110.75,
         4687.9,
         "No"
        ],
        [
         "5115-GZDEL",
         0.0,
         72.0,
         67.2,
         4671.7,
         "No"
        ],
        [
         "5129-HHMZC",
         0.0,
         43.0,
         86.45,
         3574.5,
         "No"
        ],
        [
         "5130-IEKQT",
         1.0,
         25.0,
         105.95,
         2655.25,
         "No"
        ],
        [
         "5143-WMWOG",
         0.0,
         1.0,
         19.95,
         19.95,
         "No"
        ],
        [
         "5144-PQCDZ",
         0.0,
         4.0,
         19.95,
         59.25,
         "No"
        ],
        [
         "5148-ORICT",
         0.0,
         64.0,
         74.35,
         4759.55,
         "No"
        ],
        [
         "5197-PYEPU",
         0.0,
         42.0,
         94.45,
         3923.8,
         "No"
        ],
        [
         "5204-QZXPU",
         0.0,
         19.0,
         39.65,
         733.35,
         "No"
        ],
        [
         "5222-JCXZT",
         0.0,
         4.0,
         19.0,
         78.9,
         "No"
        ],
        [
         "5318-YKDPV",
         0.0,
         43.0,
         79.15,
         3566.6,
         "No"
        ],
        [
         "5327-CNLUQ",
         0.0,
         48.0,
         96.9,
         4473.45,
         "No"
        ],
        [
         "5501-TVMGM",
         0.0,
         1.0,
         55.25,
         55.25,
         "No"
        ],
        [
         "5502-RLUYV",
         0.0,
         69.0,
         103.95,
         7446.9,
         "No"
        ],
        [
         "5512-IDZEI",
         0.0,
         46.0,
         24.9,
         1174.8,
         "No"
        ],
        [
         "5522-NYKPB",
         0.0,
         25.0,
         85.9,
         2199.05,
         "No"
        ],
        [
         "5524-KHNJP",
         0.0,
         33.0,
         74.75,
         2453.3,
         "No"
        ],
        [
         "5533-RJFTJ",
         0.0,
         49.0,
         30.2,
         1453.1,
         "No"
        ],
        [
         "5546-QUERU",
         0.0,
         13.0,
         19.95,
         257.0,
         "No"
        ],
        [
         "5552-ZNFSJ",
         0.0,
         1.0,
         45.3,
         45.3,
         "No"
        ],
        [
         "5565-FILXA",
         1.0,
         16.0,
         96.15,
         1529.2,
         "No"
        ],
        [
         "5569-KGJHX",
         0.0,
         9.0,
         85.35,
         754.65,
         "Yes"
        ],
        [
         "5569-OUICF",
         1.0,
         28.0,
         101.3,
         2812.2,
         "No"
        ],
        [
         "5572-ZDXHY",
         0.0,
         22.0,
         84.3,
         1855.65,
         "No"
        ],
        [
         "5651-WYIPH",
         1.0,
         18.0,
         49.85,
         865.75,
         "No"
        ],
        [
         "5655-JSMZM",
         1.0,
         49.0,
         96.2,
         4718.25,
         "No"
        ],
        [
         "5673-TIYIB",
         0.0,
         2.0,
         40.4,
         77.15,
         "No"
        ],
        [
         "5788-YPOEG",
         0.0,
         34.0,
         84.75,
         2839.45,
         "No"
        ],
        [
         "5879-HMFFH",
         0.0,
         72.0,
         88.05,
         6520.8,
         "No"
        ],
        [
         "5906-DVAPM",
         0.0,
         55.0,
         75.0,
         4213.9,
         "No"
        ],
        [
         "5909-ECHUI",
         0.0,
         1.0,
         56.25,
         56.25,
         "No"
        ],
        [
         "5913-INRQV",
         1.0,
         34.0,
         90.15,
         3128.8,
         "No"
        ],
        [
         "5931-FLJJF",
         1.0,
         7.0,
         70.1,
         467.55,
         "Yes"
        ],
        [
         "5954-BDFSG",
         0.0,
         72.0,
         107.5,
         7853.7,
         "No"
        ],
        [
         "5959-BELXA",
         1.0,
         32.0,
         96.15,
         3019.25,
         "No"
        ],
        [
         "5975-BAICR",
         0.0,
         36.0,
         63.7,
         2188.5,
         "No"
        ],
        [
         "6048-NJXHX",
         0.0,
         41.0,
         19.75,
         899.45,
         "No"
        ],
        [
         "6061-PQHMK",
         0.0,
         25.0,
         19.9,
         527.5,
         "No"
        ],
        [
         "6072-NUQCB",
         0.0,
         22.0,
         20.25,
         488.25,
         "No"
        ],
        [
         "6087-MVHJH",
         0.0,
         16.0,
         88.45,
         1422.1,
         "No"
        ],
        [
         "6103-BOCOU",
         0.0,
         26.0,
         80.7,
         2193.0,
         "No"
        ],
        [
         "6110-OHIHY",
         0.0,
         3.0,
         79.25,
         267.6,
         "Yes"
        ],
        [
         "6147-CBCRA",
         0.0,
         33.0,
         20.05,
         669.45,
         "No"
        ],
        [
         "6161-ERDGD",
         0.0,
         71.0,
         85.45,
         6300.85,
         "No"
        ],
        [
         "6166-YIPFO",
         0.0,
         72.0,
         64.7,
         4746.05,
         "No"
        ],
        [
         "6195-MELTI",
         0.0,
         57.0,
         54.65,
         3134.7,
         "No"
        ],
        [
         "6215-NQCPY",
         0.0,
         15.0,
         99.7,
         1566.75,
         "Yes"
        ],
        [
         "6298-QDFNH",
         0.0,
         22.0,
         79.35,
         1730.35,
         "No"
        ],
        [
         "6303-KFWSL",
         0.0,
         29.0,
         55.25,
         1620.2,
         "No"
        ],
        [
         "6330-JKLPC",
         0.0,
         11.0,
         80.5,
         896.9,
         "Yes"
        ],
        [
         "6338-AVWCY",
         0.0,
         3.0,
         40.15,
         130.75,
         "No"
        ],
        [
         "6340-DACFT",
         0.0,
         50.0,
         20.55,
         1070.25,
         "No"
        ],
        [
         "6393-WRYZE",
         0.0,
         34.0,
         97.65,
         3207.55,
         "No"
        ],
        [
         "6394-MFYNG",
         0.0,
         48.0,
         107.4,
         5121.3,
         "No"
        ],
        [
         "6437-UKHMV",
         0.0,
         7.0,
         79.7,
         586.05,
         "Yes"
        ],
        [
         "6467-CHFZW",
         0.0,
         47.0,
         99.35,
         4749.15,
         "No"
        ],
        [
         "6521-YYTYI",
         0.0,
         1.0,
         93.3,
         93.3,
         "Yes"
        ],
        [
         "6559-RAKOZ",
         0.0,
         49.0,
         97.95,
         4917.9,
         "No"
        ],
        [
         "6614-VBEGU",
         0.0,
         24.0,
         69.45,
         1614.05,
         "No"
        ],
        [
         "6614-YWYSC",
         1.0,
         61.0,
         25.0,
         1501.75,
         "No"
        ],
        [
         "6680-NENYN",
         0.0,
         43.0,
         104.6,
         4759.85,
         "No"
        ],
        [
         "6688-UZPWD",
         0.0,
         11.0,
         102.0,
         1145.35,
         "Yes"
        ],
        [
         "6770-UAYGJ",
         0.0,
         49.0,
         25.25,
         1211.65,
         "No"
        ],
        [
         "6806-YDEUL",
         1.0,
         6.0,
         19.5,
         106.8,
         "No"
        ],
        [
         "6834-NXDCA",
         0.0,
         13.0,
         23.9,
         300.8,
         "No"
        ],
        [
         "6840-RESVB",
         0.0,
         24.0,
         84.8,
         1990.5,
         "No"
        ],
        [
         "6873-UDNLD",
         0.0,
         40.0,
         67.45,
         2731.0,
         "No"
        ],
        [
         "6900-RBKER",
         0.0,
         52.0,
         89.45,
         4577.75,
         "No"
        ],
        [
         "6923-AQONU",
         0.0,
         23.0,
         20.9,
         454.0,
         "No"
        ],
        [
         "6937-GCDGQ",
         0.0,
         19.0,
         48.95,
         955.6,
         "No"
        ],
        [
         "6952-OMNWB",
         1.0,
         68.0,
         80.35,
         5589.3,
         "No"
        ],
        [
         "7005-CYUIL",
         1.0,
         71.0,
         99.4,
         7168.25,
         "No"
        ],
        [
         "7021-XSNYE",
         0.0,
         7.0,
         49.65,
         305.55,
         "No"
        ],
        [
         "7024-OHCCK",
         1.0,
         2.0,
         93.85,
         170.85,
         "Yes"
        ],
        [
         "7030-NJVDP",
         0.0,
         24.0,
         89.25,
         2210.2,
         "No"
        ],
        [
         "7055-JCGNI",
         0.0,
         70.0,
         111.95,
         7795.95,
         "No"
        ],
        [
         "7065-YUNRY",
         0.0,
         1.0,
         45.3,
         45.3,
         "No"
        ],
        [
         "7078-NVFAM",
         0.0,
         32.0,
         35.15,
         1051.05,
         "No"
        ],
        [
         "7100-FQPRV",
         0.0,
         43.0,
         71.9,
         3173.35,
         "No"
        ],
        [
         "7126-RBHSD",
         0.0,
         17.0,
         78.9,
         1348.95,
         "No"
        ],
        [
         "7128-GGCNO",
         0.0,
         46.0,
         72.8,
         3249.4,
         "No"
        ],
        [
         "7133-VBDCG",
         0.0,
         25.0,
         79.85,
         2015.35,
         "No"
        ],
        [
         "7156-MHUGY",
         1.0,
         13.0,
         90.5,
         1201.15,
         "Yes"
        ],
        [
         "7156-MXBJE",
         0.0,
         43.0,
         85.1,
         3662.25,
         "No"
        ],
        [
         "7159-NOKYQ",
         0.0,
         67.0,
         93.15,
         6368.2,
         "No"
        ],
        [
         "7161-DFHUF",
         0.0,
         71.0,
         23.85,
         1672.1,
         "No"
        ],
        [
         "7249-WBIYX",
         0.0,
         10.0,
         85.6,
         813.85,
         "Yes"
        ],
        [
         "7272-QDCKA",
         0.0,
         28.0,
         100.2,
         2688.45,
         "No"
        ],
        [
         "7277-KAMWT",
         0.0,
         13.0,
         20.0,
         268.45,
         "No"
        ],
        [
         "7325-ENZFI",
         0.0,
         39.0,
         40.3,
         1630.4,
         "No"
        ],
        [
         "7389-KBFIT",
         0.0,
         2.0,
         30.25,
         63.75,
         "No"
        ],
        [
         "7398-SKNQZ",
         0.0,
         3.0,
         94.9,
         273.2,
         "Yes"
        ],
        [
         "7432-FFVAR",
         0.0,
         46.0,
         90.95,
         4236.6,
         "No"
        ],
        [
         "7442-YGZFK",
         0.0,
         1.0,
         49.8,
         49.8,
         "No"
        ],
        [
         "7488-MXJIV",
         0.0,
         4.0,
         85.65,
         321.65,
         "Yes"
        ],
        [
         "7530-HDYDS",
         0.0,
         38.0,
         84.25,
         3264.5,
         "No"
        ],
        [
         "7534-BFESC",
         1.0,
         24.0,
         76.1,
         1712.7,
         "No"
        ],
        [
         "7547-EKNFS",
         0.0,
         42.0,
         95.25,
         3959.35,
         "No"
        ],
        [
         "7599-NTMDP",
         0.0,
         62.0,
         48.7,
         3008.55,
         "No"
        ],
        [
         "7670-ZBPOQ",
         0.0,
         58.0,
         61.05,
         3478.75,
         "No"
        ],
        [
         "7690-KPNCU",
         0.0,
         64.0,
         73.05,
         4688.65,
         "No"
        ],
        [
         "7693-QPEFS",
         1.0,
         52.0,
         72.95,
         3829.75,
         "No"
        ],
        [
         "7714-YXSMB",
         0.0,
         26.0,
         100.5,
         2599.95,
         "No"
        ],
        [
         "7746-AWNQW",
         0.0,
         28.0,
         35.75,
         961.4,
         "No"
        ],
        [
         "7779-LGOVN",
         1.0,
         10.0,
         86.65,
         856.65,
         "Yes"
        ],
        [
         "7781-EWARA",
         0.0,
         70.0,
         60.35,
         4138.7,
         "No"
        ],
        [
         "7833-PKIHD",
         0.0,
         51.0,
         76.4,
         3966.3,
         "No"
        ],
        [
         "7881-EVUAD",
         0.0,
         2.0,
         42.6,
         72.4,
         "No"
        ],
        [
         "7926-IJOOU",
         0.0,
         1.0,
         19.3,
         19.3,
         "No"
        ],
        [
         "7957-RYHQD",
         1.0,
         40.0,
         79.2,
         3233.85,
         "No"
        ],
        [
         "7989-CHGTL",
         0.0,
         1.0,
         19.6,
         19.6,
         "No"
        ],
        [
         "7998-ZLXWN",
         0.0,
         15.0,
         20.45,
         330.8,
         "No"
        ],
        [
         "8006-PYCSW",
         0.0,
         2.0,
         20.1,
         39.8,
         "No"
        ],
        [
         "8020-BWHYL",
         1.0,
         15.0,
         75.3,
         1147.45,
         "Yes"
        ],
        [
         "8051-HJRLT",
         1.0,
         1.0,
         70.55,
         70.55,
         "Yes"
        ],
        [
         "8053-WWDRO",
         0.0,
         6.0,
         19.5,
         146.3,
         "No"
        ],
        [
         "8069-YQQAJ",
         0.0,
         14.0,
         31.1,
         419.7,
         "No"
        ],
        [
         "8111-BKVDS",
         0.0,
         10.0,
         40.7,
         449.3,
         "No"
        ],
        [
         "8118-TJAFG",
         0.0,
         9.0,
         101.5,
         906.85,
         "Yes"
        ],
        [
         "8148-WOCMK",
         0.0,
         8.0,
         19.6,
         125.0,
         "No"
        ],
        [
         "8160-HOWOX",
         0.0,
         7.0,
         66.85,
         458.1,
         "No"
        ],
        [
         "8182-BJDSI",
         0.0,
         28.0,
         89.95,
         2625.55,
         "No"
        ],
        [
         "8201-AAXCB",
         0.0,
         25.0,
         60.35,
         1404.65,
         "No"
        ],
        [
         "8234-GSZYK",
         0.0,
         43.0,
         26.45,
         1110.05,
         "No"
        ],
        [
         "8250-ZNGGW",
         1.0,
         5.0,
         59.9,
         287.85,
         "No"
        ],
        [
         "8272-ONJLV",
         0.0,
         12.0,
         95.7,
         1184.0,
         "Yes"
        ],
        [
         "8280-MQRQN",
         0.0,
         1.0,
         50.45,
         50.45,
         "No"
        ],
        [
         "8292-FRFZQ",
         0.0,
         39.0,
         41.15,
         1700.9,
         "No"
        ],
        [
         "8292-ITGYJ",
         0.0,
         45.0,
         24.65,
         1138.8,
         "No"
        ],
        [
         "8336-TAVKX",
         1.0,
         72.0,
         78.45,
         5682.25,
         "No"
        ],
        [
         "8345-MVDYC",
         0.0,
         45.0,
         81.65,
         3618.7,
         "No"
        ],
        [
         "8388-DMKAE",
         0.0,
         8.0,
         20.25,
         174.65,
         "No"
        ],
        [
         "8410-BGQXN",
         0.0,
         4.0,
         19.4,
         93.4,
         "No"
        ],
        [
         "8433-WXGNA",
         0.0,
         2.0,
         75.7,
         189.2,
         "Yes"
        ],
        [
         "8445-DNBAE",
         0.0,
         1.0,
         50.05,
         50.05,
         "No"
        ],
        [
         "8467-WYNSR",
         0.0,
         22.0,
         55.1,
         1253.15,
         "No"
        ],
        [
         "8498-XXGWA",
         0.0,
         65.0,
         55.15,
         3673.15,
         "No"
        ],
        [
         "8512-WIWYV",
         0.0,
         32.0,
         20.35,
         707.5,
         "No"
        ],
        [
         "8513-OLYGY",
         0.0,
         72.0,
         115.8,
         8332.15,
         "No"
        ],
        [
         "8565-CLBZW",
         0.0,
         24.0,
         89.85,
         2165.05,
         "No"
        ],
        [
         "8584-KMVXD",
         0.0,
         8.0,
         75.6,
         535.55,
         "Yes"
        ],
        [
         "8590-OHDIW",
         0.0,
         38.0,
         20.3,
         749.35,
         "No"
        ],
        [
         "8630-FJLIB",
         0.0,
         18.0,
         69.8,
         1221.65,
         "No"
        ],
        [
         "8650-RHRKE",
         0.0,
         4.0,
         29.65,
         118.5,
         "No"
        ],
        [
         "8659-HDIYE",
         1.0,
         64.0,
         74.65,
         4869.35,
         "No"
        ],
        [
         "8676-OOQEJ",
         0.0,
         4.0,
         30.5,
         118.4,
         "No"
        ],
        [
         "8739-XNIKG",
         0.0,
         5.0,
         84.0,
         424.75,
         "Yes"
        ],
        [
         "8746-BFOAJ",
         1.0,
         21.0,
         20.5,
         429.55,
         "No"
        ],
        [
         "8752-GHJFU",
         1.0,
         71.0,
         92.0,
         6585.2,
         "No"
        ],
        [
         "8769-KKTPH",
         0.0,
         63.0,
         99.65,
         6311.2,
         "No"
        ],
        [
         "8779-QRDMV",
         1.0,
         1.0,
         39.65,
         39.65,
         "No"
        ],
        [
         "8784-CGILN",
         0.0,
         18.0,
         99.85,
         1776.95,
         "No"
        ],
        [
         "8849-GYOKR",
         0.0,
         54.0,
         106.55,
         5763.3,
         "No"
        ],
        [
         "8849-PRIQJ",
         0.0,
         67.0,
         109.4,
         7281.6,
         "No"
        ],
        [
         "8905-IAZPF",
         0.0,
         69.0,
         95.65,
         6744.2,
         "No"
        ],
        [
         "8943-URTMR",
         0.0,
         2.0,
         79.65,
         152.7,
         "Yes"
        ],
        [
         "8945-GRKHX",
         0.0,
         1.0,
         78.65,
         78.65,
         "Yes"
        ],
        [
         "8972-HJWNV",
         1.0,
         7.0,
         84.55,
         646.85,
         "Yes"
        ],
        [
         "8982-NHAVY",
         0.0,
         27.0,
         100.5,
         2673.45,
         "No"
        ],
        [
         "8999-XXGNS",
         1.0,
         72.0,
         105.75,
         7629.85,
         "No"
        ],
        [
         "9054-FOWNV",
         0.0,
         22.0,
         88.75,
         1885.15,
         "No"
        ],
        [
         "9057-MSWCO",
         1.0,
         27.0,
         30.75,
         805.1,
         "No"
        ],
        [
         "9172-ANCRX",
         0.0,
         10.0,
         98.7,
         973.25,
         "Yes"
        ],
        [
         "9254-RBFON",
         0.0,
         17.0,
         98.6,
         1704.95,
         "No"
        ],
        [
         "9274-UARKJ",
         0.0,
         15.0,
         83.2,
         1130.0,
         "Yes"
        ],
        [
         "9283-LZQOH",
         0.0,
         13.0,
         74.4,
         896.75,
         "Yes"
        ],
        [
         "9317-WZPGV",
         1.0,
         2.0,
         79.75,
         159.4,
         "Yes"
        ],
        [
         "9348-YVOMK",
         0.0,
         4.0,
         44.8,
         176.2,
         "No"
        ],
        [
         "9351-HXDMR",
         0.0,
         72.0,
         110.9,
         8240.85,
         "No"
        ],
        [
         "9356-AXGMP",
         0.0,
         38.0,
         110.7,
         4428.6,
         "No"
        ],
        [
         "9372-TXXPS",
         0.0,
         60.0,
         59.85,
         3483.45,
         "No"
        ],
        [
         "9385-NXKDA",
         0.0,
         72.0,
         82.65,
         5919.35,
         "No"
        ],
        [
         "9392-XBGTD",
         0.0,
         27.0,
         20.6,
         581.85,
         "No"
        ],
        [
         "9435-JMLSX",
         0.0,
         71.0,
         86.1,
         6045.9,
         "No"
        ],
        [
         "9497-QCMMS",
         1.0,
         1.0,
         93.55,
         93.55,
         "Yes"
        ],
        [
         "9534-NSXEM",
         0.0,
         26.0,
         20.65,
         595.5,
         "No"
        ],
        [
         "9548-LERKT",
         0.0,
         24.0,
         19.75,
         483.15,
         "No"
        ],
        [
         "9552-TGUZV",
         0.0,
         8.0,
         75.0,
         658.1,
         "Yes"
        ],
        [
         "9571-EDEBV",
         0.0,
         71.0,
         98.65,
         6962.85,
         "No"
        ],
        [
         "9609-BENEA",
         0.0,
         35.0,
         69.0,
         2441.7,
         "No"
        ],
        [
         "9618-LFJRU",
         0.0,
         4.0,
         20.45,
         82.85,
         "No"
        ],
        [
         "9631-XEYKE",
         0.0,
         3.0,
         50.4,
         137.25,
         "No"
        ],
        [
         "9643-AVVWI",
         0.0,
         3.0,
         80.0,
         241.3,
         "Yes"
        ],
        [
         "9699-UBQFS",
         1.0,
         43.0,
         94.5,
         4156.8,
         "No"
        ],
        [
         "9715-WZCLW",
         0.0,
         71.0,
         97.2,
         6910.3,
         "No"
        ],
        [
         "9817-APLHW",
         0.0,
         12.0,
         25.0,
         316.2,
         "No"
        ],
        [
         "9819-FBNSV",
         1.0,
         37.0,
         72.25,
         2575.45,
         "No"
        ],
        [
         "9822-BIIGN",
         0.0,
         53.0,
         71.85,
         3827.9,
         "No"
        ],
        [
         "9824-QCJPK",
         0.0,
         36.0,
         20.0,
         666.75,
         "No"
        ],
        [
         "9825-YCXWZ",
         1.0,
         41.0,
         101.1,
         4016.2,
         "No"
        ],
        [
         "9847-HNVGP",
         0.0,
         17.0,
         19.95,
         310.6,
         "No"
        ],
        [
         "9851-QXEEQ",
         0.0,
         41.0,
         104.7,
         4346.4,
         "No"
        ],
        [
         "9944-HKVVB",
         0.0,
         3.0,
         95.1,
         307.4,
         "Yes"
        ],
        [
         "9967-ATRFS",
         0.0,
         19.0,
         19.9,
         367.55,
         "No"
        ],
        [
         "9992-UJOEL",
         0.0,
         2.0,
         50.3,
         92.75,
         "No"
        ]
       ],
       "datasetInfos": [],
       "dbfsResultPath": null,
       "isJsonSchema": true,
       "metadata": {},
       "overflow": false,
       "plotOptions": {
        "customPlotOptions": {},
        "displayType": "table",
        "pivotAggregation": null,
        "pivotColumns": null,
        "xColumns": null,
        "yColumns": null
       },
       "removedWidgets": [],
       "schema": [
        {
         "metadata": "{}",
         "name": "customerID",
         "type": "\"string\""
        },
        {
         "metadata": "{}",
         "name": "SeniorCitizen",
         "type": "\"double\""
        },
        {
         "metadata": "{}",
         "name": "tenure",
         "type": "\"double\""
        },
        {
         "metadata": "{}",
         "name": "MonthlyCharges",
         "type": "\"double\""
        },
        {
         "metadata": "{}",
         "name": "TotalCharges",
         "type": "\"double\""
        },
        {
         "metadata": "{}",
         "name": "prediction",
         "type": "\"string\""
        }
       ],
       "type": "table"
      }
     },
     "output_type": "display_data"
    }
   ],
   "source": [
    "## Load the model\n",
    "model_uri = f\"models:/{model_name}@champion\"\n",
    "\n",
    "## Define the test dataset\n",
    "test_features_df = test_df.select(\"customerID\")\n",
    "\n",
    "## Perform batch inference using Feature Engineering's score_batch method\n",
    "result_df = fe.score_batch(\n",
    "  model_uri=model_uri,\n",
    "  df=test_features_df,\n",
    "  result_type=\"string\"\n",
    ")\n",
    "\n",
    "## Display the inference results\n",
    "display(result_df)"
   ]
  },
  {
   "cell_type": "markdown",
   "metadata": {
    "application/vnd.databricks.v1+cell": {
     "cellMetadata": {
      "byteLimit": 2048000,
      "rowLimit": 10000
     },
     "inputWidgets": {},
     "nuid": "7ee4c1bb-43b1-4e27-af0a-9bc3eab067f2",
     "showTitle": false,
     "tableResultSettingsMap": {},
     "title": ""
    }
   },
   "source": [
    "## Task 3: Assess Liquid Clustering:\n",
    "\n",
    "Evaluate the performance results for specific optimization techniques, such as: Liquid Clustering Follow the step-wise instructions below:  \n",
    "+ **Step 1:** Create `batch_inference_liquid_clustering` table and import the following columns: `customerID`, `Churn`, `SeniorCitizen`, `tenure`, `MonthlyCharges`, `TotalCharges`, and `prediction`.\n",
    "+ **Step 2:**  Begin by assessing Liquid Clustering, an optimization technique for improving performance by physically organizing data based on a specified clustering column.\n",
    "+ **Step 3:**  Optimize the target table for Liquid Clustering.\n",
    "+ **Step 4:** Specify the `CLUSTER BY` clause with the desired columns (e.g., (customerID, tenure)) to enable Liquid Clustering on the table."
   ]
  },
  {
   "cell_type": "code",
   "execution_count": 0,
   "metadata": {
    "application/vnd.databricks.v1+cell": {
     "cellMetadata": {
      "byteLimit": 2048000,
      "implicitDf": true,
      "rowLimit": 10000
     },
     "inputWidgets": {},
     "nuid": "c47799ac-2904-4e42-a289-e4bcf534fc37",
     "showTitle": false,
     "tableResultSettingsMap": {},
     "title": ""
    }
   },
   "outputs": [
    {
     "output_type": "display_data",
     "data": {
      "text/html": [
       "<style scoped>\n",
       "  .table-result-container {\n",
       "    max-height: 300px;\n",
       "    overflow: auto;\n",
       "  }\n",
       "  table, th, td {\n",
       "    border: 1px solid black;\n",
       "    border-collapse: collapse;\n",
       "  }\n",
       "  th, td {\n",
       "    padding: 5px;\n",
       "  }\n",
       "  th {\n",
       "    text-align: left;\n",
       "  }\n",
       "</style><div class='table-result-container'><table class='table-result'><thead style='background-color: white'><tr></tr></thead><tbody></tbody></table></div>"
      ]
     },
     "metadata": {
      "application/vnd.databricks.v1+output": {
       "addedWidgets": {},
       "aggData": [],
       "aggError": "",
       "aggOverflow": false,
       "aggSchema": [],
       "aggSeriesLimitReached": false,
       "aggType": "",
       "arguments": {},
       "columnCustomDisplayInfos": {},
       "data": [],
       "datasetInfos": [],
       "dbfsResultPath": null,
       "isJsonSchema": true,
       "metadata": {
        "dataframeName": null
       },
       "overflow": false,
       "plotOptions": {
        "customPlotOptions": {},
        "displayType": "table",
        "pivotAggregation": null,
        "pivotColumns": null,
        "xColumns": null,
        "yColumns": null
       },
       "removedWidgets": [],
       "schema": [],
       "type": "table"
      }
     },
     "output_type": "display_data"
    }
   ],
   "source": [
    "%sql\n",
    "CREATE OR REPLACE TABLE batch_inference_liquid_clustering(\n",
    "  customerID string,\n",
    "  Churn string,\n",
    "  SeniorCitizen double,\n",
    "  tenure double,\n",
    "  MonthlyCharges double,\n",
    "  TotalCharges double,\n",
    "  prediction string\n",
    "  )"
   ]
  },
  {
   "cell_type": "code",
   "execution_count": 0,
   "metadata": {
    "application/vnd.databricks.v1+cell": {
     "cellMetadata": {
      "byteLimit": 2048000,
      "implicitDf": true,
      "rowLimit": 10000
     },
     "inputWidgets": {},
     "nuid": "f6bf92c4-9d17-4942-b655-3c746a2ab1be",
     "showTitle": false,
     "tableResultSettingsMap": {},
     "title": ""
    }
   },
   "outputs": [
    {
     "output_type": "display_data",
     "data": {
      "text/html": [
       "<style scoped>\n",
       "  .table-result-container {\n",
       "    max-height: 300px;\n",
       "    overflow: auto;\n",
       "  }\n",
       "  table, th, td {\n",
       "    border: 1px solid black;\n",
       "    border-collapse: collapse;\n",
       "  }\n",
       "  th, td {\n",
       "    padding: 5px;\n",
       "  }\n",
       "  th {\n",
       "    text-align: left;\n",
       "  }\n",
       "</style><div class='table-result-container'><table class='table-result'><thead style='background-color: white'><tr></tr></thead><tbody></tbody></table></div>"
      ]
     },
     "metadata": {
      "application/vnd.databricks.v1+output": {
       "addedWidgets": {},
       "aggData": [],
       "aggError": "",
       "aggOverflow": false,
       "aggSchema": [],
       "aggSeriesLimitReached": false,
       "aggType": "",
       "arguments": {},
       "columnCustomDisplayInfos": {},
       "data": [],
       "datasetInfos": [],
       "dbfsResultPath": null,
       "isJsonSchema": true,
       "metadata": {
        "dataframeName": null
       },
       "overflow": false,
       "plotOptions": {
        "customPlotOptions": {},
        "displayType": "table",
        "pivotAggregation": null,
        "pivotColumns": null,
        "xColumns": null,
        "yColumns": null
       },
       "removedWidgets": [],
       "schema": [],
       "type": "table"
      }
     },
     "output_type": "display_data"
    }
   ],
   "source": [
    "%sql\n",
    "OPTIMIZE batch_inference_liquid_clustering;\n",
    "ALTER TABLE batch_inference_liquid_clustering\n",
    "CLUSTER BY (customerID, tenure);"
   ]
  },
  {
   "cell_type": "markdown",
   "metadata": {
    "application/vnd.databricks.v1+cell": {
     "cellMetadata": {
      "byteLimit": 2048000,
      "rowLimit": 10000
     },
     "inputWidgets": {},
     "nuid": "c5ed03b2-f282-4785-97fa-c8b57a6d5070",
     "showTitle": false,
     "tableResultSettingsMap": {},
     "title": ""
    }
   },
   "source": [
    "\n",
    "## Conclusion\n",
    "\n",
    "This lab provides you with hands-on experience in batch deployment, covering model inference, Model Registry usage, and the impact of features like Liquid Clustering on performance. you will gain practical insights into deploying models at scale in a batch-oriented environment."
   ]
  },
  {
   "cell_type": "markdown",
   "metadata": {
    "application/vnd.databricks.v1+cell": {
     "cellMetadata": {
      "byteLimit": 2048000,
      "rowLimit": 10000
     },
     "inputWidgets": {},
     "nuid": "0233fedf-d1fb-4889-958f-f28b9b457824",
     "showTitle": false,
     "tableResultSettingsMap": {},
     "title": ""
    }
   },
   "source": [
    "\n",
    "&copy; 2025 Databricks, Inc. All rights reserved. Apache, Apache Spark, Spark, the Spark Logo, Apache Iceberg, Iceberg, and the Apache Iceberg logo are trademarks of the <a href=\"https://www.apache.org/\" target=\"blank\">Apache Software Foundation</a>.<br/>\n",
    "<br/><a href=\"https://databricks.com/privacy-policy\" target=\"blank\">Privacy Policy</a> | \n",
    "<a href=\"https://databricks.com/terms-of-use\" target=\"blank\">Terms of Use</a> | \n",
    "<a href=\"https://help.databricks.com/\" target=\"blank\">Support</a>"
   ]
  }
 ],
 "metadata": {
  "application/vnd.databricks.v1+notebook": {
   "computePreferences": null,
   "dashboards": [],
   "environmentMetadata": null,
   "inputWidgetPreferences": null,
   "language": "python",
   "notebookMetadata": {
    "mostRecentlyExecutedCommandWithImplicitDF": {
     "commandId": 4054457989793473,
     "dataframes": [
      "_sqldf"
     ]
    },
    "pythonIndentUnit": 4
   },
   "notebookName": "2.2 Lab - Batch Deployment",
   "widgets": {}
  },
  "language_info": {
   "name": "python"
  }
 },
 "nbformat": 4,
 "nbformat_minor": 0
}